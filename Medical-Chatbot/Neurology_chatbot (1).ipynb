{
 "cells": [
  {
   "cell_type": "code",
   "execution_count": 3,
   "id": "ca6855d0-42d8-4ef5-8178-f58b1c765fa1",
   "metadata": {},
   "outputs": [],
   "source": [
    "#Import libraries\n",
    "import torch #For Deep Learning\n",
    "import numpy as np #For mathematical computations\n",
    "import pandas as pd #For Data manipulation\n",
    "import re #Used for text processing\n",
    "import matplotlib.pyplot as plt #For data visualization\n",
    "import seaborn as sns #For data visualization\n",
    "import tensorflow as tf #For deep learning\n",
    "import evaluate #For performing evaluation metrics\n",
    "import warnings #To suppress warnings"
   ]
  },
  {
   "cell_type": "code",
   "execution_count": 4,
   "id": "f83bc4cc-2989-495f-9978-a614ca753867",
   "metadata": {},
   "outputs": [
    {
     "name": "stdout",
     "output_type": "stream",
     "text": [
      "WARNING:tensorflow:From C:\\Users\\user\\AppData\\Local\\Programs\\Python\\Python312\\Lib\\site-packages\\tf_keras\\src\\losses.py:2976: The name tf.losses.sparse_softmax_cross_entropy is deprecated. Please use tf.compat.v1.losses.sparse_softmax_cross_entropy instead.\n",
      "\n"
     ]
    }
   ],
   "source": [
    "#Import Hugging Face transformers\n",
    "from transformers import T5Tokenizer, T5ForConditionalGeneration, Seq2SeqTrainingArguments\n",
    "from transformers import Seq2SeqTrainer, DataCollatorForSeq2Seq, TrainerCallback, T5Config\n",
    "#Import datasets from NLP\n",
    "from datasets import Dataset\n",
    "#Import train-test-split\n",
    "from sklearn.model_selection import train_test_split\n",
    "from torch.nn import CrossEntropyLoss #For loss computation and applies softmax\n",
    "from torch.optim import AdamW #For loading optimizer that updates training parameters and correctly applies weight decay\n",
    "from torch.utils.data import TensorDataset #For efficient data loading\n",
    "from torchsummary import summary #For summarizing model's architecture\n",
    "from collections import defaultdict #For assigning a value to a key automatically\n",
    "warnings.filterwarnings(\"ignore\") #Supress warnings"
   ]
  },
  {
   "cell_type": "code",
   "execution_count": 5,
   "id": "e62fe3d7-cb8e-4724-b539-84c6bbf8151e",
   "metadata": {},
   "outputs": [
    {
     "name": "stdout",
     "output_type": "stream",
     "text": [
      "Data Sample:\n",
      "                                            Question  \\\n",
      "0            What is (are) Multiple System Atrophy ?   \n",
      "1  What are the treatments for Multiple System At...   \n",
      "2  What is the outlook for Multiple System Atrophy ?   \n",
      "3  what research (or clinical trials) is being do...   \n",
      "4                      What is (are) Neurotoxicity ?   \n",
      "\n",
      "                                              Answer  \\\n",
      "0  Multiple system atrophy (MSA) is a progressive...   \n",
      "1  There is no cure for MSA. Currently, there are...   \n",
      "2  The disease tends to advance rapidly over the ...   \n",
      "3  The NINDS supports research about MSA through ...   \n",
      "4  Neurotoxicity occurs when the exposure to natu...   \n",
      "\n",
      "                           topic  split  \n",
      "0  Neurological_Disorders_Stroke  train  \n",
      "1  Neurological_Disorders_Stroke  train  \n",
      "2  Neurological_Disorders_Stroke   test  \n",
      "3  Neurological_Disorders_Stroke   test  \n",
      "4  Neurological_Disorders_Stroke  train  \n"
     ]
    }
   ],
   "source": [
    "#Load the dataset\n",
    "df = pd.read_csv(\"Neurological_Disorders_and_StrokeQA.csv\")\n",
    "print(\"Data Sample:\")\n",
    "print(df.head())"
   ]
  },
  {
   "cell_type": "code",
   "execution_count": 6,
   "id": "97b407bb-060c-45ae-93bb-8cfb10eb84a7",
   "metadata": {},
   "outputs": [
    {
     "name": "stdout",
     "output_type": "stream",
     "text": [
      "Null Values Data\n",
      "Question    0\n",
      "Answer      0\n",
      "topic       0\n",
      "split       0\n",
      "dtype: int64\n"
     ]
    }
   ],
   "source": [
    "#Check null values\n",
    "print(\"Null Values Data\")\n",
    "print(df.isnull().sum())"
   ]
  },
  {
   "cell_type": "code",
   "execution_count": 7,
   "id": "50ce5745-e541-4f36-b5ce-68346af443ef",
   "metadata": {},
   "outputs": [
    {
     "data": {
      "text/plain": [
       "0                 what is (are) multiple system atrophy ?\n",
       "1       what are the treatments for multiple system at...\n",
       "2       what is the outlook for multiple system atrophy ?\n",
       "3       what research (or clinical trials) is being do...\n",
       "4                           what is (are) neurotoxicity ?\n",
       "                              ...                        \n",
       "1083    what research (or clinical trials) is being do...\n",
       "1084                        what is (are) parry-romberg ?\n",
       "1085          what are the treatments for parry-romberg ?\n",
       "1086              what is the outlook for parry-romberg ?\n",
       "1087    what research (or clinical trials) is being do...\n",
       "Name: Question, Length: 1088, dtype: object"
      ]
     },
     "execution_count": 7,
     "metadata": {},
     "output_type": "execute_result"
    }
   ],
   "source": [
    "#Define a list of common question words\n",
    "question_words = [\"what\", \"who\", \"how\", \"why\", \"when\", \"where\", \"is\", \"are\", \"does\", \"do\", \"can\", \"will\", \"shall\"]\n",
    "#Convert all the questions to lower case\n",
    "df[\"Question\"] = df[\"Question\"].str.lower()\n",
    "df[\"Question\"]"
   ]
  },
  {
   "cell_type": "code",
   "execution_count": 8,
   "id": "c428fcd0-f78d-4e81-a43b-8fa020b3e0c9",
   "metadata": {},
   "outputs": [
    {
     "data": {
      "text/html": [
       "<div>\n",
       "<style scoped>\n",
       "    .dataframe tbody tr th:only-of-type {\n",
       "        vertical-align: middle;\n",
       "    }\n",
       "\n",
       "    .dataframe tbody tr th {\n",
       "        vertical-align: top;\n",
       "    }\n",
       "\n",
       "    .dataframe thead th {\n",
       "        text-align: right;\n",
       "    }\n",
       "</style>\n",
       "<table border=\"1\" class=\"dataframe\">\n",
       "  <thead>\n",
       "    <tr style=\"text-align: right;\">\n",
       "      <th></th>\n",
       "      <th>Question</th>\n",
       "      <th>Answer</th>\n",
       "      <th>topic</th>\n",
       "      <th>split</th>\n",
       "    </tr>\n",
       "  </thead>\n",
       "  <tbody>\n",
       "    <tr>\n",
       "      <th>0</th>\n",
       "      <td>what is (are) multiple system atrophy ?</td>\n",
       "      <td>Multiple system atrophy (MSA) is a progressive...</td>\n",
       "      <td>Neurological_Disorders_Stroke</td>\n",
       "      <td>train</td>\n",
       "    </tr>\n",
       "    <tr>\n",
       "      <th>1</th>\n",
       "      <td>what are the treatments for multiple system at...</td>\n",
       "      <td>There is no cure for MSA. Currently, there are...</td>\n",
       "      <td>Neurological_Disorders_Stroke</td>\n",
       "      <td>train</td>\n",
       "    </tr>\n",
       "    <tr>\n",
       "      <th>2</th>\n",
       "      <td>what is the outlook for multiple system atrophy ?</td>\n",
       "      <td>The disease tends to advance rapidly over the ...</td>\n",
       "      <td>Neurological_Disorders_Stroke</td>\n",
       "      <td>test</td>\n",
       "    </tr>\n",
       "    <tr>\n",
       "      <th>3</th>\n",
       "      <td>what research (or clinical trials) is being do...</td>\n",
       "      <td>The NINDS supports research about MSA through ...</td>\n",
       "      <td>Neurological_Disorders_Stroke</td>\n",
       "      <td>test</td>\n",
       "    </tr>\n",
       "    <tr>\n",
       "      <th>4</th>\n",
       "      <td>what is (are) neurotoxicity ?</td>\n",
       "      <td>Neurotoxicity occurs when the exposure to natu...</td>\n",
       "      <td>Neurological_Disorders_Stroke</td>\n",
       "      <td>train</td>\n",
       "    </tr>\n",
       "    <tr>\n",
       "      <th>...</th>\n",
       "      <td>...</td>\n",
       "      <td>...</td>\n",
       "      <td>...</td>\n",
       "      <td>...</td>\n",
       "    </tr>\n",
       "    <tr>\n",
       "      <th>1083</th>\n",
       "      <td>what research (or clinical trials) is being do...</td>\n",
       "      <td>Within the NINDS research programs, pinched ne...</td>\n",
       "      <td>Neurological_Disorders_Stroke</td>\n",
       "      <td>train</td>\n",
       "    </tr>\n",
       "    <tr>\n",
       "      <th>1084</th>\n",
       "      <td>what is (are) parry-romberg ?</td>\n",
       "      <td>Parry-Romberg syndrome is a rare disorder char...</td>\n",
       "      <td>Neurological_Disorders_Stroke</td>\n",
       "      <td>train</td>\n",
       "    </tr>\n",
       "    <tr>\n",
       "      <th>1085</th>\n",
       "      <td>what are the treatments for parry-romberg ?</td>\n",
       "      <td>There is no cure and there are no treatments t...</td>\n",
       "      <td>Neurological_Disorders_Stroke</td>\n",
       "      <td>train</td>\n",
       "    </tr>\n",
       "    <tr>\n",
       "      <th>1086</th>\n",
       "      <td>what is the outlook for parry-romberg ?</td>\n",
       "      <td>The prognosis for individuals with Parry-Rombe...</td>\n",
       "      <td>Neurological_Disorders_Stroke</td>\n",
       "      <td>train</td>\n",
       "    </tr>\n",
       "    <tr>\n",
       "      <th>1087</th>\n",
       "      <td>what research (or clinical trials) is being do...</td>\n",
       "      <td>The NINDS supports research on neurological di...</td>\n",
       "      <td>Neurological_Disorders_Stroke</td>\n",
       "      <td>test</td>\n",
       "    </tr>\n",
       "  </tbody>\n",
       "</table>\n",
       "<p>1088 rows × 4 columns</p>\n",
       "</div>"
      ],
      "text/plain": [
       "                                               Question  \\\n",
       "0               what is (are) multiple system atrophy ?   \n",
       "1     what are the treatments for multiple system at...   \n",
       "2     what is the outlook for multiple system atrophy ?   \n",
       "3     what research (or clinical trials) is being do...   \n",
       "4                         what is (are) neurotoxicity ?   \n",
       "...                                                 ...   \n",
       "1083  what research (or clinical trials) is being do...   \n",
       "1084                      what is (are) parry-romberg ?   \n",
       "1085        what are the treatments for parry-romberg ?   \n",
       "1086            what is the outlook for parry-romberg ?   \n",
       "1087  what research (or clinical trials) is being do...   \n",
       "\n",
       "                                                 Answer  \\\n",
       "0     Multiple system atrophy (MSA) is a progressive...   \n",
       "1     There is no cure for MSA. Currently, there are...   \n",
       "2     The disease tends to advance rapidly over the ...   \n",
       "3     The NINDS supports research about MSA through ...   \n",
       "4     Neurotoxicity occurs when the exposure to natu...   \n",
       "...                                                 ...   \n",
       "1083  Within the NINDS research programs, pinched ne...   \n",
       "1084  Parry-Romberg syndrome is a rare disorder char...   \n",
       "1085  There is no cure and there are no treatments t...   \n",
       "1086  The prognosis for individuals with Parry-Rombe...   \n",
       "1087  The NINDS supports research on neurological di...   \n",
       "\n",
       "                              topic  split  \n",
       "0     Neurological_Disorders_Stroke  train  \n",
       "1     Neurological_Disorders_Stroke  train  \n",
       "2     Neurological_Disorders_Stroke   test  \n",
       "3     Neurological_Disorders_Stroke   test  \n",
       "4     Neurological_Disorders_Stroke  train  \n",
       "...                             ...    ...  \n",
       "1083  Neurological_Disorders_Stroke  train  \n",
       "1084  Neurological_Disorders_Stroke  train  \n",
       "1085  Neurological_Disorders_Stroke  train  \n",
       "1086  Neurological_Disorders_Stroke  train  \n",
       "1087  Neurological_Disorders_Stroke   test  \n",
       "\n",
       "[1088 rows x 4 columns]"
      ]
     },
     "execution_count": 8,
     "metadata": {},
     "output_type": "execute_result"
    }
   ],
   "source": [
    "#Check for questions that contains words in question words\n",
    "df = df[df[\"Question\"].str.split().str[0].isin(question_words)]\n",
    "df"
   ]
  },
  {
   "cell_type": "code",
   "execution_count": 9,
   "id": "c144d248-2a0b-40ef-86d1-2745c13ca778",
   "metadata": {},
   "outputs": [
    {
     "data": {
      "text/plain": [
       "np.int64(0)"
      ]
     },
     "execution_count": 9,
     "metadata": {},
     "output_type": "execute_result"
    }
   ],
   "source": [
    "#Check for duplicates\n",
    "duplicated = df.duplicated().sum()\n",
    "duplicated"
   ]
  },
  {
   "cell_type": "code",
   "execution_count": 10,
   "id": "5d86c979-3e14-4bdd-92ff-8e98a0504782",
   "metadata": {},
   "outputs": [
    {
     "data": {
      "text/html": [
       "<div>\n",
       "<style scoped>\n",
       "    .dataframe tbody tr th:only-of-type {\n",
       "        vertical-align: middle;\n",
       "    }\n",
       "\n",
       "    .dataframe tbody tr th {\n",
       "        vertical-align: top;\n",
       "    }\n",
       "\n",
       "    .dataframe thead th {\n",
       "        text-align: right;\n",
       "    }\n",
       "</style>\n",
       "<table border=\"1\" class=\"dataframe\">\n",
       "  <thead>\n",
       "    <tr style=\"text-align: right;\">\n",
       "      <th></th>\n",
       "      <th>Question</th>\n",
       "      <th>Answer</th>\n",
       "      <th>topic</th>\n",
       "      <th>split</th>\n",
       "    </tr>\n",
       "  </thead>\n",
       "  <tbody>\n",
       "    <tr>\n",
       "      <th>0</th>\n",
       "      <td>what is (are) multiple system atrophy ?</td>\n",
       "      <td>Multiple system atrophy (MSA) is a progressive...</td>\n",
       "      <td>Neurological_Disorders_Stroke</td>\n",
       "      <td>train</td>\n",
       "    </tr>\n",
       "    <tr>\n",
       "      <th>1</th>\n",
       "      <td>what are the treatments for multiple system at...</td>\n",
       "      <td>There is no cure for MSA. Currently, there are...</td>\n",
       "      <td>Neurological_Disorders_Stroke</td>\n",
       "      <td>train</td>\n",
       "    </tr>\n",
       "    <tr>\n",
       "      <th>2</th>\n",
       "      <td>what is the outlook for multiple system atrophy ?</td>\n",
       "      <td>The disease tends to advance rapidly over the ...</td>\n",
       "      <td>Neurological_Disorders_Stroke</td>\n",
       "      <td>test</td>\n",
       "    </tr>\n",
       "    <tr>\n",
       "      <th>3</th>\n",
       "      <td>what research (or clinical trials) is being do...</td>\n",
       "      <td>The NINDS supports research about MSA through ...</td>\n",
       "      <td>Neurological_Disorders_Stroke</td>\n",
       "      <td>test</td>\n",
       "    </tr>\n",
       "    <tr>\n",
       "      <th>4</th>\n",
       "      <td>what is (are) neurotoxicity ?</td>\n",
       "      <td>Neurotoxicity occurs when the exposure to natu...</td>\n",
       "      <td>Neurological_Disorders_Stroke</td>\n",
       "      <td>train</td>\n",
       "    </tr>\n",
       "    <tr>\n",
       "      <th>...</th>\n",
       "      <td>...</td>\n",
       "      <td>...</td>\n",
       "      <td>...</td>\n",
       "      <td>...</td>\n",
       "    </tr>\n",
       "    <tr>\n",
       "      <th>1083</th>\n",
       "      <td>what research (or clinical trials) is being do...</td>\n",
       "      <td>Within the NINDS research programs, pinched ne...</td>\n",
       "      <td>Neurological_Disorders_Stroke</td>\n",
       "      <td>train</td>\n",
       "    </tr>\n",
       "    <tr>\n",
       "      <th>1084</th>\n",
       "      <td>what is (are) parry-romberg ?</td>\n",
       "      <td>Parry-Romberg syndrome is a rare disorder char...</td>\n",
       "      <td>Neurological_Disorders_Stroke</td>\n",
       "      <td>train</td>\n",
       "    </tr>\n",
       "    <tr>\n",
       "      <th>1085</th>\n",
       "      <td>what are the treatments for parry-romberg ?</td>\n",
       "      <td>There is no cure and there are no treatments t...</td>\n",
       "      <td>Neurological_Disorders_Stroke</td>\n",
       "      <td>train</td>\n",
       "    </tr>\n",
       "    <tr>\n",
       "      <th>1086</th>\n",
       "      <td>what is the outlook for parry-romberg ?</td>\n",
       "      <td>The prognosis for individuals with Parry-Rombe...</td>\n",
       "      <td>Neurological_Disorders_Stroke</td>\n",
       "      <td>train</td>\n",
       "    </tr>\n",
       "    <tr>\n",
       "      <th>1087</th>\n",
       "      <td>what research (or clinical trials) is being do...</td>\n",
       "      <td>The NINDS supports research on neurological di...</td>\n",
       "      <td>Neurological_Disorders_Stroke</td>\n",
       "      <td>test</td>\n",
       "    </tr>\n",
       "  </tbody>\n",
       "</table>\n",
       "<p>1088 rows × 4 columns</p>\n",
       "</div>"
      ],
      "text/plain": [
       "                                               Question  \\\n",
       "0               what is (are) multiple system atrophy ?   \n",
       "1     what are the treatments for multiple system at...   \n",
       "2     what is the outlook for multiple system atrophy ?   \n",
       "3     what research (or clinical trials) is being do...   \n",
       "4                         what is (are) neurotoxicity ?   \n",
       "...                                                 ...   \n",
       "1083  what research (or clinical trials) is being do...   \n",
       "1084                      what is (are) parry-romberg ?   \n",
       "1085        what are the treatments for parry-romberg ?   \n",
       "1086            what is the outlook for parry-romberg ?   \n",
       "1087  what research (or clinical trials) is being do...   \n",
       "\n",
       "                                                 Answer  \\\n",
       "0     Multiple system atrophy (MSA) is a progressive...   \n",
       "1     There is no cure for MSA. Currently, there are...   \n",
       "2     The disease tends to advance rapidly over the ...   \n",
       "3     The NINDS supports research about MSA through ...   \n",
       "4     Neurotoxicity occurs when the exposure to natu...   \n",
       "...                                                 ...   \n",
       "1083  Within the NINDS research programs, pinched ne...   \n",
       "1084  Parry-Romberg syndrome is a rare disorder char...   \n",
       "1085  There is no cure and there are no treatments t...   \n",
       "1086  The prognosis for individuals with Parry-Rombe...   \n",
       "1087  The NINDS supports research on neurological di...   \n",
       "\n",
       "                              topic  split  \n",
       "0     Neurological_Disorders_Stroke  train  \n",
       "1     Neurological_Disorders_Stroke  train  \n",
       "2     Neurological_Disorders_Stroke   test  \n",
       "3     Neurological_Disorders_Stroke   test  \n",
       "4     Neurological_Disorders_Stroke  train  \n",
       "...                             ...    ...  \n",
       "1083  Neurological_Disorders_Stroke  train  \n",
       "1084  Neurological_Disorders_Stroke  train  \n",
       "1085  Neurological_Disorders_Stroke  train  \n",
       "1086  Neurological_Disorders_Stroke  train  \n",
       "1087  Neurological_Disorders_Stroke   test  \n",
       "\n",
       "[1088 rows x 4 columns]"
      ]
     },
     "execution_count": 10,
     "metadata": {},
     "output_type": "execute_result"
    }
   ],
   "source": [
    "#Reset Index\n",
    "df = df.reset_index(drop=True)\n",
    "df"
   ]
  },
  {
   "cell_type": "code",
   "execution_count": 11,
   "id": "b92f4979-05e5-4075-843f-c22d86dc575d",
   "metadata": {},
   "outputs": [
    {
     "data": {
      "text/html": [
       "<div>\n",
       "<style scoped>\n",
       "    .dataframe tbody tr th:only-of-type {\n",
       "        vertical-align: middle;\n",
       "    }\n",
       "\n",
       "    .dataframe tbody tr th {\n",
       "        vertical-align: top;\n",
       "    }\n",
       "\n",
       "    .dataframe thead th {\n",
       "        text-align: right;\n",
       "    }\n",
       "</style>\n",
       "<table border=\"1\" class=\"dataframe\">\n",
       "  <thead>\n",
       "    <tr style=\"text-align: right;\">\n",
       "      <th></th>\n",
       "      <th>Question</th>\n",
       "      <th>Answer</th>\n",
       "    </tr>\n",
       "  </thead>\n",
       "  <tbody>\n",
       "    <tr>\n",
       "      <th>0</th>\n",
       "      <td>what is (are) multiple system atrophy ?</td>\n",
       "      <td>Multiple system atrophy (MSA) is a progressive...</td>\n",
       "    </tr>\n",
       "    <tr>\n",
       "      <th>1</th>\n",
       "      <td>what are the treatments for multiple system at...</td>\n",
       "      <td>There is no cure for MSA. Currently, there are...</td>\n",
       "    </tr>\n",
       "    <tr>\n",
       "      <th>2</th>\n",
       "      <td>what is the outlook for multiple system atrophy ?</td>\n",
       "      <td>The disease tends to advance rapidly over the ...</td>\n",
       "    </tr>\n",
       "    <tr>\n",
       "      <th>3</th>\n",
       "      <td>what research (or clinical trials) is being do...</td>\n",
       "      <td>The NINDS supports research about MSA through ...</td>\n",
       "    </tr>\n",
       "    <tr>\n",
       "      <th>4</th>\n",
       "      <td>what is (are) neurotoxicity ?</td>\n",
       "      <td>Neurotoxicity occurs when the exposure to natu...</td>\n",
       "    </tr>\n",
       "    <tr>\n",
       "      <th>...</th>\n",
       "      <td>...</td>\n",
       "      <td>...</td>\n",
       "    </tr>\n",
       "    <tr>\n",
       "      <th>1083</th>\n",
       "      <td>what research (or clinical trials) is being do...</td>\n",
       "      <td>Within the NINDS research programs, pinched ne...</td>\n",
       "    </tr>\n",
       "    <tr>\n",
       "      <th>1084</th>\n",
       "      <td>what is (are) parry-romberg ?</td>\n",
       "      <td>Parry-Romberg syndrome is a rare disorder char...</td>\n",
       "    </tr>\n",
       "    <tr>\n",
       "      <th>1085</th>\n",
       "      <td>what are the treatments for parry-romberg ?</td>\n",
       "      <td>There is no cure and there are no treatments t...</td>\n",
       "    </tr>\n",
       "    <tr>\n",
       "      <th>1086</th>\n",
       "      <td>what is the outlook for parry-romberg ?</td>\n",
       "      <td>The prognosis for individuals with Parry-Rombe...</td>\n",
       "    </tr>\n",
       "    <tr>\n",
       "      <th>1087</th>\n",
       "      <td>what research (or clinical trials) is being do...</td>\n",
       "      <td>The NINDS supports research on neurological di...</td>\n",
       "    </tr>\n",
       "  </tbody>\n",
       "</table>\n",
       "<p>1088 rows × 2 columns</p>\n",
       "</div>"
      ],
      "text/plain": [
       "                                               Question  \\\n",
       "0               what is (are) multiple system atrophy ?   \n",
       "1     what are the treatments for multiple system at...   \n",
       "2     what is the outlook for multiple system atrophy ?   \n",
       "3     what research (or clinical trials) is being do...   \n",
       "4                         what is (are) neurotoxicity ?   \n",
       "...                                                 ...   \n",
       "1083  what research (or clinical trials) is being do...   \n",
       "1084                      what is (are) parry-romberg ?   \n",
       "1085        what are the treatments for parry-romberg ?   \n",
       "1086            what is the outlook for parry-romberg ?   \n",
       "1087  what research (or clinical trials) is being do...   \n",
       "\n",
       "                                                 Answer  \n",
       "0     Multiple system atrophy (MSA) is a progressive...  \n",
       "1     There is no cure for MSA. Currently, there are...  \n",
       "2     The disease tends to advance rapidly over the ...  \n",
       "3     The NINDS supports research about MSA through ...  \n",
       "4     Neurotoxicity occurs when the exposure to natu...  \n",
       "...                                                 ...  \n",
       "1083  Within the NINDS research programs, pinched ne...  \n",
       "1084  Parry-Romberg syndrome is a rare disorder char...  \n",
       "1085  There is no cure and there are no treatments t...  \n",
       "1086  The prognosis for individuals with Parry-Rombe...  \n",
       "1087  The NINDS supports research on neurological di...  \n",
       "\n",
       "[1088 rows x 2 columns]"
      ]
     },
     "execution_count": 11,
     "metadata": {},
     "output_type": "execute_result"
    }
   ],
   "source": [
    "#Drop unused columns\n",
    "df = df.drop(columns=[\"topic\", \"split\"])\n",
    "df"
   ]
  },
  {
   "cell_type": "code",
   "execution_count": 53,
   "id": "a6adebeb-47c2-411c-920f-cdd526067652",
   "metadata": {},
   "outputs": [
    {
     "data": {
      "text/html": [
       "<div>\n",
       "<style scoped>\n",
       "    .dataframe tbody tr th:only-of-type {\n",
       "        vertical-align: middle;\n",
       "    }\n",
       "\n",
       "    .dataframe tbody tr th {\n",
       "        vertical-align: top;\n",
       "    }\n",
       "\n",
       "    .dataframe thead th {\n",
       "        text-align: right;\n",
       "    }\n",
       "</style>\n",
       "<table border=\"1\" class=\"dataframe\">\n",
       "  <thead>\n",
       "    <tr style=\"text-align: right;\">\n",
       "      <th></th>\n",
       "      <th>Question</th>\n",
       "      <th>Answer</th>\n",
       "    </tr>\n",
       "  </thead>\n",
       "  <tbody>\n",
       "    <tr>\n",
       "      <th>0</th>\n",
       "      <td>what is multiple system atrophy ?</td>\n",
       "      <td>multiple system atrophy is a progressive neuro...</td>\n",
       "    </tr>\n",
       "    <tr>\n",
       "      <th>1</th>\n",
       "      <td>what are the treatments for multiple system at...</td>\n",
       "      <td>there is no cure for msa. currently, there are...</td>\n",
       "    </tr>\n",
       "    <tr>\n",
       "      <th>2</th>\n",
       "      <td>what is the outlook for multiple system atrophy ?</td>\n",
       "      <td>the disease tends to advance rapidly over the ...</td>\n",
       "    </tr>\n",
       "    <tr>\n",
       "      <th>3</th>\n",
       "      <td>what research is being done for multiple syste...</td>\n",
       "      <td>the ninds supports research about msa through ...</td>\n",
       "    </tr>\n",
       "    <tr>\n",
       "      <th>4</th>\n",
       "      <td>what is neurotoxicity ?</td>\n",
       "      <td>neurotoxicity occurs when the exposure to natu...</td>\n",
       "    </tr>\n",
       "    <tr>\n",
       "      <th>...</th>\n",
       "      <td>...</td>\n",
       "      <td>...</td>\n",
       "    </tr>\n",
       "    <tr>\n",
       "      <th>1083</th>\n",
       "      <td>what research is being done for pinched nerve ?</td>\n",
       "      <td>within the ninds research programs, pinched ne...</td>\n",
       "    </tr>\n",
       "    <tr>\n",
       "      <th>1084</th>\n",
       "      <td>what is parry-romberg ?</td>\n",
       "      <td>parry-romberg syndrome is a rare disorder char...</td>\n",
       "    </tr>\n",
       "    <tr>\n",
       "      <th>1085</th>\n",
       "      <td>what are the treatments for parry-romberg ?</td>\n",
       "      <td>there is no cure and there are no treatments t...</td>\n",
       "    </tr>\n",
       "    <tr>\n",
       "      <th>1086</th>\n",
       "      <td>what is the outlook for parry-romberg ?</td>\n",
       "      <td>the prognosis for individuals with parry-rombe...</td>\n",
       "    </tr>\n",
       "    <tr>\n",
       "      <th>1087</th>\n",
       "      <td>what research is being done for parry-romberg ?</td>\n",
       "      <td>the ninds supports research on neurological di...</td>\n",
       "    </tr>\n",
       "  </tbody>\n",
       "</table>\n",
       "<p>1088 rows × 2 columns</p>\n",
       "</div>"
      ],
      "text/plain": [
       "                                               Question  \\\n",
       "0                     what is multiple system atrophy ?   \n",
       "1     what are the treatments for multiple system at...   \n",
       "2     what is the outlook for multiple system atrophy ?   \n",
       "3     what research is being done for multiple syste...   \n",
       "4                               what is neurotoxicity ?   \n",
       "...                                                 ...   \n",
       "1083    what research is being done for pinched nerve ?   \n",
       "1084                            what is parry-romberg ?   \n",
       "1085        what are the treatments for parry-romberg ?   \n",
       "1086            what is the outlook for parry-romberg ?   \n",
       "1087    what research is being done for parry-romberg ?   \n",
       "\n",
       "                                                 Answer  \n",
       "0     multiple system atrophy is a progressive neuro...  \n",
       "1     there is no cure for msa. currently, there are...  \n",
       "2     the disease tends to advance rapidly over the ...  \n",
       "3     the ninds supports research about msa through ...  \n",
       "4     neurotoxicity occurs when the exposure to natu...  \n",
       "...                                                 ...  \n",
       "1083  within the ninds research programs, pinched ne...  \n",
       "1084  parry-romberg syndrome is a rare disorder char...  \n",
       "1085  there is no cure and there are no treatments t...  \n",
       "1086  the prognosis for individuals with parry-rombe...  \n",
       "1087  the ninds supports research on neurological di...  \n",
       "\n",
       "[1088 rows x 2 columns]"
      ]
     },
     "execution_count": 53,
     "metadata": {},
     "output_type": "execute_result"
    }
   ],
   "source": [
    "df = df.reset_index(drop=True)\n",
    "df"
   ]
  },
  {
   "cell_type": "code",
   "execution_count": 13,
   "id": "a21ed3c8-ff1c-412a-ba8d-6102a39118a5",
   "metadata": {},
   "outputs": [],
   "source": [
    "#Define a function to clean text off whitespaces, symbols and ensure lower case\n",
    "def clean_text(text):\n",
    "    text = re.sub(r\"\\(.*?\\)\", \" \", text)\n",
    "    text = re.sub(r\"\\s+\", \" \", text.strip().lower())\n",
    "    return text"
   ]
  },
  {
   "cell_type": "code",
   "execution_count": 14,
   "id": "90eb7164-6291-457e-8865-3ced9e698780",
   "metadata": {},
   "outputs": [],
   "source": [
    "#Apply text to both the question and the answer\n",
    "df[\"Question\"] = df[\"Question\"].apply(clean_text)\n",
    "df[\"Answer\"] = df[\"Answer\"].apply(clean_text)"
   ]
  },
  {
   "cell_type": "code",
   "execution_count": 15,
   "id": "aa1b850e-853d-4dd0-a8b9-06988933e7e5",
   "metadata": {},
   "outputs": [
    {
     "name": "stdout",
     "output_type": "stream",
     "text": [
      "0                       what is multiple system atrophy ?\n",
      "1       what are the treatments for multiple system at...\n",
      "2       what is the outlook for multiple system atrophy ?\n",
      "3       what research is being done for multiple syste...\n",
      "4                                 what is neurotoxicity ?\n",
      "                              ...                        \n",
      "1083      what research is being done for pinched nerve ?\n",
      "1084                              what is parry-romberg ?\n",
      "1085          what are the treatments for parry-romberg ?\n",
      "1086              what is the outlook for parry-romberg ?\n",
      "1087      what research is being done for parry-romberg ?\n",
      "Name: Question, Length: 1088, dtype: object\n",
      "0       multiple system atrophy is a progressive neuro...\n",
      "1       there is no cure for msa. currently, there are...\n",
      "2       the disease tends to advance rapidly over the ...\n",
      "3       the ninds supports research about msa through ...\n",
      "4       neurotoxicity occurs when the exposure to natu...\n",
      "                              ...                        \n",
      "1083    within the ninds research programs, pinched ne...\n",
      "1084    parry-romberg syndrome is a rare disorder char...\n",
      "1085    there is no cure and there are no treatments t...\n",
      "1086    the prognosis for individuals with parry-rombe...\n",
      "1087    the ninds supports research on neurological di...\n",
      "Name: Answer, Length: 1088, dtype: object\n"
     ]
    }
   ],
   "source": [
    "#Further clean the text by making sure the whitespaces, symbols, and make sure they are in lower case\n",
    "df[\"Question\"] = df[\"Question\"].str.lower().str.strip().apply(lambda x: re.sub(r\"\\s+\", \" \", x))\n",
    "df[\"Answer\"] = df[\"Answer\"].str.lower().str.strip().apply(lambda x: re.sub(r\"\\s+\", \" \", x))\n",
    "print(df[\"Question\"])\n",
    "print(df[\"Answer\"])"
   ]
  },
  {
   "cell_type": "code",
   "execution_count": 16,
   "id": "a7272e2c-2d2b-4a62-a8b4-e98ddd7a9ed6",
   "metadata": {},
   "outputs": [
    {
     "name": "stdout",
     "output_type": "stream",
     "text": [
      "Unique Questions: 1085\n",
      "Unique Answers: 1086\n"
     ]
    }
   ],
   "source": [
    "#Check for unique numbers in question and answer\n",
    "print(f\"Unique Questions: {df[\"Question\"].nunique()}\")\n",
    "print(f\"Unique Answers: {df[\"Answer\"].nunique()}\")"
   ]
  },
  {
   "cell_type": "code",
   "execution_count": 17,
   "id": "7b7bc6c6-8964-4636-b996-1770b3e351f8",
   "metadata": {},
   "outputs": [
    {
     "name": "stdout",
     "output_type": "stream",
     "text": [
      "Final Data Info\n",
      "<class 'pandas.core.frame.DataFrame'>\n",
      "RangeIndex: 1088 entries, 0 to 1087\n",
      "Data columns (total 2 columns):\n",
      " #   Column    Non-Null Count  Dtype \n",
      "---  ------    --------------  ----- \n",
      " 0   Question  1088 non-null   object\n",
      " 1   Answer    1088 non-null   object\n",
      "dtypes: object(2)\n",
      "memory usage: 17.1+ KB\n",
      "Final Dataset\n"
     ]
    },
    {
     "data": {
      "text/html": [
       "<div>\n",
       "<style scoped>\n",
       "    .dataframe tbody tr th:only-of-type {\n",
       "        vertical-align: middle;\n",
       "    }\n",
       "\n",
       "    .dataframe tbody tr th {\n",
       "        vertical-align: top;\n",
       "    }\n",
       "\n",
       "    .dataframe thead th {\n",
       "        text-align: right;\n",
       "    }\n",
       "</style>\n",
       "<table border=\"1\" class=\"dataframe\">\n",
       "  <thead>\n",
       "    <tr style=\"text-align: right;\">\n",
       "      <th></th>\n",
       "      <th>Question</th>\n",
       "      <th>Answer</th>\n",
       "    </tr>\n",
       "  </thead>\n",
       "  <tbody>\n",
       "    <tr>\n",
       "      <th>0</th>\n",
       "      <td>what is multiple system atrophy ?</td>\n",
       "      <td>multiple system atrophy is a progressive neuro...</td>\n",
       "    </tr>\n",
       "    <tr>\n",
       "      <th>1</th>\n",
       "      <td>what are the treatments for multiple system at...</td>\n",
       "      <td>there is no cure for msa. currently, there are...</td>\n",
       "    </tr>\n",
       "    <tr>\n",
       "      <th>2</th>\n",
       "      <td>what is the outlook for multiple system atrophy ?</td>\n",
       "      <td>the disease tends to advance rapidly over the ...</td>\n",
       "    </tr>\n",
       "    <tr>\n",
       "      <th>3</th>\n",
       "      <td>what research is being done for multiple syste...</td>\n",
       "      <td>the ninds supports research about msa through ...</td>\n",
       "    </tr>\n",
       "    <tr>\n",
       "      <th>4</th>\n",
       "      <td>what is neurotoxicity ?</td>\n",
       "      <td>neurotoxicity occurs when the exposure to natu...</td>\n",
       "    </tr>\n",
       "  </tbody>\n",
       "</table>\n",
       "</div>"
      ],
      "text/plain": [
       "                                            Question  \\\n",
       "0                  what is multiple system atrophy ?   \n",
       "1  what are the treatments for multiple system at...   \n",
       "2  what is the outlook for multiple system atrophy ?   \n",
       "3  what research is being done for multiple syste...   \n",
       "4                            what is neurotoxicity ?   \n",
       "\n",
       "                                              Answer  \n",
       "0  multiple system atrophy is a progressive neuro...  \n",
       "1  there is no cure for msa. currently, there are...  \n",
       "2  the disease tends to advance rapidly over the ...  \n",
       "3  the ninds supports research about msa through ...  \n",
       "4  neurotoxicity occurs when the exposure to natu...  "
      ]
     },
     "execution_count": 17,
     "metadata": {},
     "output_type": "execute_result"
    }
   ],
   "source": [
    "print(\"Final Data Info\")\n",
    "df.info()\n",
    "print(\"Final Dataset\")\n",
    "df.head()"
   ]
  },
  {
   "cell_type": "code",
   "execution_count": 18,
   "id": "ec4666db-d711-4647-ace9-0843af1e133a",
   "metadata": {},
   "outputs": [
    {
     "name": "stderr",
     "output_type": "stream",
     "text": [
      "You are using the default legacy behaviour of the <class 'transformers.models.t5.tokenization_t5.T5Tokenizer'>. This is expected, and simply means that the `legacy` (previous) behavior will be used so nothing changes for you. If you want to use the new behaviour, set `legacy=False`. This should only be set if you understand what it means, and thoroughly read the reason why this was added as explained in https://github.com/huggingface/transformers/pull/24565\n"
     ]
    },
    {
     "name": "stdout",
     "output_type": "stream",
     "text": [
      "\n",
      "Detailed Model's Summary:\n",
      "=======================================================\n",
      "layer_type                    count     parameters     \n",
      "=======================================================\n",
      "T5ForConditionalGeneration    1         222,882,048    \n",
      "Embedding                     3         24,653,568     \n",
      "T5Stack                       2         247,534,848    \n",
      "ModuleList                    26        396,455,424    \n",
      "T5Block                       24        198,227,712    \n",
      "T5LayerSelfAttention          24        56,642,304     \n",
      "T5Attention                   36        84,935,424     \n",
      "Linear                        193       222,833,664    \n",
      "T5LayerNorm                   62        47,616         \n",
      "Dropout                       86        0              \n",
      "T5LayerFF                     24        113,264,640    \n",
      "T5DenseActDense               24        113,246,208    \n",
      "ReLU                          24        0              \n",
      "T5LayerCrossAttention         12        28,320,768     \n"
     ]
    }
   ],
   "source": [
    "#Define the model name and the model's tokenizer\n",
    "model_name = \"t5-base\"\n",
    "config = T5Config.from_pretrained(model_name)\n",
    "#Customize the configuration\n",
    "config.dropout_rate = 0.1 #Leaves 10% of the neurons when training to prevent overfitting\n",
    "config.feed_forward_proj = \"gelu\" #Use gelu to include even the smallest negative numbers as compared to relu which might arrest training at 0\n",
    "#Load the tokenizer\n",
    "tokenizer = T5Tokenizer.from_pretrained(model_name)\n",
    "#Load the pre-trained model\n",
    "model = T5ForConditionalGeneration.from_pretrained(model_name, config=config)\n",
    "#Resize token embeddings(Allows other words to be added)\n",
    "model.resize_token_embeddings(len(tokenizer))\n",
    "#Print the summary table\n",
    "print(\"\\nDetailed Model's Summary:\")\n",
    "print(\"=\"*55)\n",
    "\n",
    "#Define a function that summarizes the model\n",
    "def summarize_model_by_type(model):\n",
    "    layer_summary = defaultdict(int) #Counts number of layers by type\n",
    "    param_summary = defaultdict(int) #Counts the number of parameters per layer\n",
    "    for name, module in model.named_modules(): #Count all layers in the model by name\n",
    "        layer_type = type(module).__name__ #Get type of module\n",
    "        layer_summary[layer_type] += 1 #Count occurrences of each type of layer\n",
    "        param_summary[layer_type] += sum(p.numel() for p in module.parameters()) #Count the number of parameters per layer type.\n",
    "    print(f\"{\"layer_type\": <30}{\"count\": <10}{\"parameters\": <15}\") #<30-layer type 30 xters wide, <10-Align count column\n",
    "    print(\"=\"*55)\n",
    "    for layer_type, count in layer_summary.items():\n",
    "        print(f\"{layer_type: <30}{count: <10}{param_summary[layer_type]: <15,}\")\n",
    "summarize_model_by_type(model)"
   ]
  },
  {
   "cell_type": "code",
   "execution_count": 19,
   "id": "26e9a07b-8b0f-4330-a5d5-909c362ca1b5",
   "metadata": {},
   "outputs": [],
   "source": [
    "#Define preprocessing function\n",
    "def preprocess_function(batch, tokenizer):\n",
    "    inputs = [f\"Answer the following question: {q}\" for q in batch[\"Question\"]] #Contains formatted question\n",
    "    targets = [f\"{a}\" for a in batch[\"Answer\"]] #Contains predicted answer\n",
    "    #Tokenize inputs\n",
    "    model_inputs = tokenizer(\n",
    "        inputs,\n",
    "        max_length=128,\n",
    "        truncation=True,\n",
    "        padding=\"max_length\",\n",
    "    )\n",
    "    #Tokenize targets\n",
    "    labels = tokenizer(\n",
    "        targets,\n",
    "        max_length=256,\n",
    "        truncation=True,\n",
    "        padding=\"max_length\"\n",
    "    )[\"input_ids\"] #Extract input_ids directly.\n",
    "    #Replace padding IDS with -100 for loss computation\n",
    "    labels = [[token if token != tokenizer.pad_token_id else -100 for token in label] for label in labels]\n",
    "    model_inputs[\"labels\"] = labels\n",
    "    return model_inputs"
   ]
  },
  {
   "cell_type": "code",
   "execution_count": 20,
   "id": "cb5a4af1-fd83-4770-bfbb-ae186b4802f0",
   "metadata": {},
   "outputs": [
    {
     "name": "stdout",
     "output_type": "stream",
     "text": [
      "Training Data:                                               Question  \\\n",
      "834   what is the outlook for guillain-barr syndrome ?   \n",
      "552             what is the outlook for bell's palsy ?   \n",
      "855  what research is being done for angelman syndr...   \n",
      "215       what research is being done for hypertonia ?   \n",
      "256                                 what is whiplash ?   \n",
      "\n",
      "                                                Answer  \n",
      "834  guillain-barr syndrome can be a devastating di...  \n",
      "552  the prognosis for individuals with bell's pals...  \n",
      "855  the ninds supports and conducts research on ne...  \n",
      "215  ninds supports research on brain and spinal co...  \n",
      "256  whiplash-a soft tissue injury to the neck-is a...  \n",
      "Validation Data:                                               Question  \\\n",
      "355  what research is being done for febrile seizur...   \n",
      "56                        what is multiple sclerosis ?   \n",
      "478                what is the outlook for dystonias ?   \n",
      "701      what are the treatments for fahr's syndrome ?   \n",
      "724                   what is restless legs syndrome ?   \n",
      "\n",
      "                                                Answer  \n",
      "355  the national institute of neurological disorde...  \n",
      "56   an unpredictable disease of the central nervou...  \n",
      "478  the initial symptoms can be very mild and may ...  \n",
      "701  there is no cure for fahr's syndrome, nor is t...  \n",
      "724  restless legs syndrome is a neurological disor...  \n"
     ]
    }
   ],
   "source": [
    "#Split the dataset\n",
    "train_df, val_df = train_test_split(df, test_size=0.2, random_state=42)\n",
    "print(\"Training Data:\", train_df.head(5))\n",
    "print(\"Validation Data:\", val_df.head(5))"
   ]
  },
  {
   "cell_type": "code",
   "execution_count": 21,
   "id": "bff297a8-183e-4f5c-8183-0d6e1cc38528",
   "metadata": {},
   "outputs": [
    {
     "name": "stderr",
     "output_type": "stream",
     "text": [
      "Map (num_proc=4): 100%|███████████████████████████████████████████████████████| 870/870 [00:09<00:00, 93.77 examples/s]\n",
      "Map (num_proc=4): 100%|███████████████████████████████████████████████████████| 218/218 [00:09<00:00, 23.51 examples/s]\n"
     ]
    }
   ],
   "source": [
    "#Convert pandas to hugging face dataset\n",
    "train_dataset = Dataset.from_pandas(train_df)\n",
    "val_dataset = Dataset.from_pandas(val_df)\n",
    "#Import partial to allow preprocessing using the .map() function\n",
    "from functools import partial\n",
    "preprocess_with_tokenizer = partial(preprocess_function, tokenizer=tokenizer)\n",
    "#Preprocess training and validation datasets\n",
    "train_dataset = train_dataset.map(\n",
    "    preprocess_with_tokenizer,\n",
    "    batched=True, #Apply batches to data\n",
    "    batch_size=32, #Process in batches of 32\n",
    "    remove_columns=train_dataset.column_names, #Ensures only preprocessed output remains\n",
    "    num_proc=4, #Enable multiprocessing\n",
    ")\n",
    "val_dataset = val_dataset.map(\n",
    "    preprocess_with_tokenizer,\n",
    "    batched=True, #Apply batches to data\n",
    "    batch_size=32, #Process in batches of 32\n",
    "    remove_columns=val_dataset.column_names, #Make sure only preprocessed output remains\n",
    "    num_proc=4, #Enable multiprocessing\n",
    ")"
   ]
  },
  {
   "cell_type": "code",
   "execution_count": 22,
   "id": "244a5ffa-0721-4991-bb8a-8519d95095b5",
   "metadata": {},
   "outputs": [
    {
     "name": "stdout",
     "output_type": "stream",
     "text": [
      "<class 'transformers.models.t5.tokenization_t5.T5Tokenizer'>\n"
     ]
    }
   ],
   "source": [
    "print(type(tokenizer))"
   ]
  },
  {
   "cell_type": "code",
   "execution_count": 23,
   "id": "c4a98ef8-4195-459b-8c1d-aaae6d0090a3",
   "metadata": {},
   "outputs": [],
   "source": [
    "#Define training arguments\n",
    "training_args = Seq2SeqTrainingArguments(\n",
    "    output_dir=\"./results\", #Save results\n",
    "    evaluation_strategy=\"epoch\", #Sace with epoch\n",
    "    save_strategy=\"epoch\",\n",
    "    save_total_limit=2, #Save the last three checkpoints\n",
    "    learning_rate=5e-5, #Learning rate\n",
    "    num_train_epochs=5, #Number of training epochs\n",
    "    per_device_train_batch_size=8, #Batch size for training\n",
    "    per_device_eval_batch_size=8, #Batch size for evaluation\n",
    "    lr_scheduler_type=\"cosine_with_restarts\", #Learning rate scheduler\n",
    "    warmup_ratio=0.1, #Warmup ratio for scheduler\n",
    "    weight_decay=0.05, #Prevent overfitting\n",
    "    predict_with_generate=True, #Predict during evaluation\n",
    "    fp16=True, #Use mixed precision\n",
    "    logging_dir=\"./logs\", #Save logs\n",
    "    logging_steps=50, #Save logs every 50 steps\n",
    "    load_best_model_at_end=True, #Load the best model at the end\n",
    "    metric_for_best_model=\"exact_match\", #Use exact match as primary metric\n",
    "    greater_is_better=True, #Higher exact match is better\n",
    "    report_to=\"none\", #Disable external reporting\n",
    "    gradient_accumulation_steps=1, #Accumulate gradient over 2 steps\n",
    "    max_grad_norm=0.5, #Gradient clipping\n",
    "    optim=\"adamw_torch_fused\", #use AdamW as optimizer\n",
    "    generation_max_length=64, #Max length of generated text\n",
    "    generation_num_beams=6, #No. of beams for beam search\n",
    "    dataloader_num_workers=0, #No. of workers for data loading\n",
    "    group_by_length=True, #Group sequences by length for efficiency\n",
    "    remove_unused_columns=True, #Remove unused columns from dataset\n",
    "    label_smoothing_factor=0.1, #Apply label smoothing\n",
    ")"
   ]
  },
  {
   "cell_type": "code",
   "execution_count": 24,
   "id": "bd6d2725-5cba-4d0f-adcc-3fd0f86c539b",
   "metadata": {},
   "outputs": [],
   "source": [
    "#Initialize data collator for Seq2Seq model\n",
    "data_collator = DataCollatorForSeq2Seq(\n",
    "    tokenizer=tokenizer, #Load rokenizer\n",
    "    model=model, #Load model\n",
    "    padding=\"longest\", #Pad sequences to the longest in batch\n",
    "    return_tensors=\"pt\", #Return pytorch tensors\n",
    ")"
   ]
  },
  {
   "cell_type": "code",
   "execution_count": 25,
   "id": "30173487-0111-425a-9441-de83e9bb2312",
   "metadata": {},
   "outputs": [],
   "source": [
    "def normalize_text(text):\n",
    "    text = text.lower()\n",
    "    text = re.sub(r\"\\s+\", \" \", text)\n",
    "    text = re.sub(r\"[^\\w\\s]\", \" \", text)\n",
    "    return text.strip()"
   ]
  },
  {
   "cell_type": "code",
   "execution_count": 26,
   "id": "c00635d7-ea35-4634-8f31-4671faf5c5b2",
   "metadata": {},
   "outputs": [],
   "source": [
    "#Define compute metrics to compute exact_match, bleu, rouge-l\n",
    "def compute_metrics(eval_pred, tokenizer):\n",
    "    predictions, labels = eval_pred\n",
    "    #Check range of predictions\n",
    "    print(f\"Max Prediction ID {predictions.max()}, Min Prediction ID: {predictions.min()}\")\n",
    "    #Sanitize predictions before decoding\n",
    "    predictions = np.where(predictions<0, tokenizer.pad_token_id, predictions)\n",
    "    predictions = np.where(predictions>=tokenizer.vocab_size, tokenizer.pad_token_id, predictions)\n",
    "    #Decode predictions and labels\n",
    "    decoded_preds = tokenizer.batch_decode(predictions, skip_special_tokens=True)\n",
    "    #Replace -100 with pad_token_id to allow decoding\n",
    "    labels = np.where(labels != -100, labels, tokenizer.pad_token_id)\n",
    "    decoded_labels = tokenizer.batch_decode(labels, skip_special_tokens=True)\n",
    "    #Normalize text\n",
    "    decoded_preds = [text.strip().lower() for text in decoded_preds]\n",
    "    decoded_labels = [text.strip().lower() for text in decoded_labels]\n",
    "    \n",
    "    #Compute exact match, bleu, and rouge scores\n",
    "    exact_match = np.mean([p == l for p, l in zip(decoded_preds, decoded_labels)])\n",
    "    \n",
    "    bleu_metric = evaluate.load(\"bleu\") #Best for ML models as it checks how well predicted phrases match.\n",
    "    rouge_metric = evaluate.load(\"rouge\")\n",
    "    #Compute bleu score\n",
    "    bleu_score = bleu_metric.compute(\n",
    "        predictions=decoded_preds,\n",
    "        references=[[label] for label in decoded_labels] #List of ground truths\n",
    "    )[\"bleu\"]\n",
    "    rouge_score = rouge_metric.compute(\n",
    "        predictions=decoded_preds,\n",
    "        references=decoded_labels #Decode ground truths\n",
    "    )[\"rougeL\"]\n",
    "    return{\n",
    "        \"exact_match\": exact_match,\n",
    "        \"BLEU\": bleu_score,\n",
    "        \"ROUGE-L\": rouge_score\n",
    "    }"
   ]
  },
  {
   "cell_type": "code",
   "execution_count": 27,
   "id": "dae5d7b8-5dc9-4413-a393-db82a4f0acbb",
   "metadata": {},
   "outputs": [],
   "source": [
    "from transformers import EarlyStoppingCallback"
   ]
  },
  {
   "cell_type": "code",
   "execution_count": 33,
   "id": "d62b75f7-a04e-496e-959d-9211eb243079",
   "metadata": {},
   "outputs": [
    {
     "name": "stderr",
     "output_type": "stream",
     "text": [
      "Passing a tuple of `past_key_values` is deprecated and will be removed in Transformers v4.48.0. You should pass an instance of `EncoderDecoderCache` instead, e.g. `past_key_values=EncoderDecoderCache.from_legacy_cache(past_key_values)`.\n"
     ]
    },
    {
     "data": {
      "text/html": [
       "\n",
       "    <div>\n",
       "      \n",
       "      <progress value='545' max='545' style='width:300px; height:20px; vertical-align: middle;'></progress>\n",
       "      [545/545 3:45:20, Epoch 5/5]\n",
       "    </div>\n",
       "    <table border=\"1\" class=\"dataframe\">\n",
       "  <thead>\n",
       " <tr style=\"text-align: left;\">\n",
       "      <th>Epoch</th>\n",
       "      <th>Training Loss</th>\n",
       "      <th>Validation Loss</th>\n",
       "      <th>Exact Match</th>\n",
       "      <th>Bleu</th>\n",
       "      <th>Rouge-l</th>\n",
       "    </tr>\n",
       "  </thead>\n",
       "  <tbody>\n",
       "    <tr>\n",
       "      <td>1</td>\n",
       "      <td>4.530500</td>\n",
       "      <td>4.089838</td>\n",
       "      <td>0.000000</td>\n",
       "      <td>0.023196</td>\n",
       "      <td>0.175744</td>\n",
       "    </tr>\n",
       "    <tr>\n",
       "      <td>2</td>\n",
       "      <td>4.215600</td>\n",
       "      <td>3.918532</td>\n",
       "      <td>0.000000</td>\n",
       "      <td>0.034152</td>\n",
       "      <td>0.191353</td>\n",
       "    </tr>\n",
       "    <tr>\n",
       "      <td>3</td>\n",
       "      <td>4.053000</td>\n",
       "      <td>3.834057</td>\n",
       "      <td>0.000000</td>\n",
       "      <td>0.037221</td>\n",
       "      <td>0.201531</td>\n",
       "    </tr>\n",
       "    <tr>\n",
       "      <td>4</td>\n",
       "      <td>4.016900</td>\n",
       "      <td>3.827361</td>\n",
       "      <td>0.000000</td>\n",
       "      <td>0.033169</td>\n",
       "      <td>0.205505</td>\n",
       "    </tr>\n",
       "    <tr>\n",
       "      <td>5</td>\n",
       "      <td>4.017000</td>\n",
       "      <td>3.840929</td>\n",
       "      <td>0.000000</td>\n",
       "      <td>0.034821</td>\n",
       "      <td>0.205492</td>\n",
       "    </tr>\n",
       "  </tbody>\n",
       "</table><p>"
      ],
      "text/plain": [
       "<IPython.core.display.HTML object>"
      ]
     },
     "metadata": {},
     "output_type": "display_data"
    },
    {
     "name": "stdout",
     "output_type": "stream",
     "text": [
      "Max Prediction ID 31253, Min Prediction ID: 0\n",
      "Max Prediction ID 31253, Min Prediction ID: 0\n",
      "Max Prediction ID 31253, Min Prediction ID: 0\n",
      "Max Prediction ID 31253, Min Prediction ID: -100\n",
      "Max Prediction ID 31253, Min Prediction ID: -100\n"
     ]
    },
    {
     "name": "stderr",
     "output_type": "stream",
     "text": [
      "There were missing keys in the checkpoint model loaded: ['encoder.embed_tokens.weight', 'decoder.embed_tokens.weight', 'lm_head.weight'].\n"
     ]
    }
   ],
   "source": [
    "#Initialize specialised training\n",
    "trainer = Seq2SeqTrainer(\n",
    "    model=model,\n",
    "    args=training_args,\n",
    "    train_dataset=train_dataset,\n",
    "    eval_dataset=val_dataset,\n",
    "    tokenizer=tokenizer,\n",
    "    data_collator=data_collator,\n",
    "    compute_metrics=lambda eval_pred: compute_metrics(eval_pred, tokenizer), #Used to wrap the compute metrics faster, eval pred contains predictions and labels.\n",
    ")\n",
    "#Train the model\n",
    "trainer.train()\n",
    "#Save the model \n",
    "trainer.save_model(\"./t5_chatbot1_model\")\n",
    "#Save the tokenizer\n",
    "tokenizer.save_pretrained(\"./t5_chatbot1_tokenizer\")\n",
    "#Save the model's state dictionary\n",
    "model_path = \"./t5_chatbot1_model.h5\"\n",
    "torch.save(model.state_dict(), model_path)\n",
    "#Save the training log\n",
    "log_history = trainer.state.log_history"
   ]
  },
  {
   "cell_type": "code",
   "execution_count": 34,
   "id": "ba4cc26d-f162-4d7f-89ec-cce98f51a371",
   "metadata": {},
   "outputs": [
    {
     "name": "stdout",
     "output_type": "stream",
     "text": [
      "Data sample\n",
      "{'input_ids': [11801, 8, 826, 822, 10, 125, 19, 8, 16395, 21, 3, 7938, 195, 9, 77, 18, 1047, 52, 12398, 3, 58, 1, 0, 0, 0, 0, 0, 0, 0, 0, 0, 0, 0, 0, 0, 0, 0, 0, 0, 0, 0, 0, 0, 0, 0, 0, 0, 0, 0, 0, 0, 0, 0, 0, 0, 0, 0, 0, 0, 0, 0, 0, 0, 0, 0, 0, 0, 0, 0, 0, 0, 0, 0, 0, 0, 0, 0, 0, 0, 0, 0, 0, 0, 0, 0, 0, 0, 0, 0, 0, 0, 0, 0, 0, 0, 0, 0, 0, 0, 0, 0, 0, 0, 0, 0, 0, 0, 0, 0, 0, 0, 0, 0, 0, 0, 0, 0, 0, 0, 0, 0, 0, 0, 0, 0, 0, 0, 0], 'attention_mask': [1, 1, 1, 1, 1, 1, 1, 1, 1, 1, 1, 1, 1, 1, 1, 1, 1, 1, 1, 1, 1, 1, 0, 0, 0, 0, 0, 0, 0, 0, 0, 0, 0, 0, 0, 0, 0, 0, 0, 0, 0, 0, 0, 0, 0, 0, 0, 0, 0, 0, 0, 0, 0, 0, 0, 0, 0, 0, 0, 0, 0, 0, 0, 0, 0, 0, 0, 0, 0, 0, 0, 0, 0, 0, 0, 0, 0, 0, 0, 0, 0, 0, 0, 0, 0, 0, 0, 0, 0, 0, 0, 0, 0, 0, 0, 0, 0, 0, 0, 0, 0, 0, 0, 0, 0, 0, 0, 0, 0, 0, 0, 0, 0, 0, 0, 0, 0, 0, 0, 0, 0, 0, 0, 0, 0, 0, 0, 0], 'labels': [3, 7938, 195, 9, 77, 18, 1047, 52, 12398, 54, 36, 3, 9, 18827, 9311, 250, 13, 165, 12914, 11, 7544, 3, 26558, 5, 167, 151, 1535, 8, 1726, 13, 4016, 18724, 441, 8, 166, 204, 1274, 227, 3976, 2385, 6, 11, 57, 8, 1025, 471, 13, 8, 7095, 2777, 1093, 13, 66, 1221, 33, 44, 70, 5676, 222, 5, 8, 3938, 1059, 164, 36, 38, 385, 38, 3, 9, 360, 1274, 42, 38, 307, 38, 3, 9, 360, 203, 5, 81, 604, 1093, 13, 273, 28, 3, 7938, 195, 9, 77, 18, 1047, 52, 341, 43, 3, 9, 27687, 18724, 227, 220, 203, 5, 81, 220, 1093, 164, 5696, 3, 9, 3, 60, 16543, 13, 5467, 18724, 11, 3, 1222, 697, 9118, 7, 186, 203, 227, 8, 2332, 3211, 5, 1, -100, -100, -100, -100, -100, -100, -100, -100, -100, -100, -100, -100, -100, -100, -100, -100, -100, -100, -100, -100, -100, -100, -100, -100, -100, -100, -100, -100, -100, -100, -100, -100, -100, -100, -100, -100, -100, -100, -100, -100, -100, -100, -100, -100, -100, -100, -100, -100, -100, -100, -100, -100, -100, -100, -100, -100, -100, -100, -100, -100, -100, -100, -100, -100, -100, -100, -100, -100, -100, -100, -100, -100, -100, -100, -100, -100, -100, -100, -100, -100, -100, -100, -100, -100, -100, -100, -100, -100, -100, -100, -100, -100, -100, -100, -100, -100, -100, -100, -100, -100, -100, -100, -100, -100, -100, -100, -100, -100, -100, -100, -100, -100, -100, -100, -100, -100, -100, -100, -100, -100, -100, -100, -100, -100]}\n"
     ]
    }
   ],
   "source": [
    "#Let's check a single set of data sample.\n",
    "print(\"Data sample\")\n",
    "print(train_dataset[0])"
   ]
  },
  {
   "cell_type": "code",
   "execution_count": 35,
   "id": "e20363bc-0718-4a85-9e24-050f66ddd4e7",
   "metadata": {},
   "outputs": [
    {
     "name": "stdout",
     "output_type": "stream",
     "text": [
      "Training Dataset Samples:\n",
      "Sample: 1:\n",
      "Input: Answer the following question: what is the outlook for guillain-barr syndrome ?\n",
      "Label: guillain-barr syndrome can be a devastating disorder because of its sudden and unexpected onset. most people reach the stage of greatest weakness within the first 2 weeks after symptoms appear, and by the third week of the illness 90 percent of all patients are at their weakest. the recovery period may be as little as a few weeks or as long as a few years. about 30 percent of those with guillain-barr still have a residual weakness after 3 years. about 3 percent may suffer a relapse of muscle weakness and tingling sensations many years after the initial attack.\n",
      "==================================================\n",
      "Sample: 2:\n",
      "Input: Answer the following question: what is the outlook for bell's palsy ?\n",
      "Label: the prognosis for individuals with bell's palsy is generally very good. the extent of nerve damage determines the extent of recovery. with or without treatment, most individuals begin to get better within 2 weeks after the initial onset of symptoms and recover some or all facial function within 3 to 6 months.\n",
      "==================================================\n",
      "Sample: 3:\n",
      "Input: Answer the following question: what research is being done for angelman syndrome ?\n",
      "Label: the ninds supports and conducts research on neurogenetic disorders such as angelman syndrome, to develop techniques to diagnose, treat, prevent, and ultimately cure them.\n",
      "==================================================\n"
     ]
    }
   ],
   "source": [
    "#Let's check for data quality. Inspect few examples from the training dataset\n",
    "print(\"Training Dataset Samples:\")\n",
    "for i in range(3):\n",
    "    try:\n",
    "        input_text = tokenizer.decode(train_dataset[i][\"input_ids\"], skip_special_tokens=True)\n",
    "        #Filter out -100 from label IDs\n",
    "        label_ids = [id for id in train_dataset[i][\"labels\"] if id != -100]\n",
    "        label_text = tokenizer.decode(label_ids, skip_special_tokens=True)\n",
    "        print(f\"Sample: {i+1}:\\nInput: {input_text}\\nLabel: {label_text}\\n{\"=\"*50}\")\n",
    "    except Exception as e:\n",
    "        print(f\"Error decoding sample: {i+1}: {e}\")"
   ]
  },
  {
   "cell_type": "code",
   "execution_count": 36,
   "id": "3d020015-3258-4894-be8f-ac0576fd3f53",
   "metadata": {},
   "outputs": [
    {
     "name": "stdout",
     "output_type": "stream",
     "text": [
      "Validation Dataset Samples:\n",
      "Sample: 1:\n",
      "Input: Answer the following question: what research is being done for febrile seizures ?\n",
      "Label: the national institute of neurological disorders and stroke conducts research on seizures at its research center in bethesda, maryland, and through grants to major medical institutions across the country. ninds-supported scientists are exploring environmental, biological, and genetic risk factors that might make children susceptible to febrile seizures. investigators continue to monitor the long-term impact that febrile seizures might have on intelligence, behavior, school achievement, and the development of epilepsy. investigators also continue to explore which drugs can effectively treat or prevent febrile seizures, and to identify factors that may cause a child who has prolonged febrile seizures to develop temporal lobe epilepsy.\n",
      "==================================================\n",
      "Sample: 2:\n",
      "Input: Answer the following question: what is multiple sclerosis ?\n",
      "Label: an unpredictable disease of the central nervous system, multiple sclerosis can range from relatively benign to somewhat disabling to devastating, as communication between the brain and other parts of the body is disrupted. many investigators believe ms to be an autoimmune disease -- one in which the body, through its immune system, launches a defensive attack against its own tissues. in the case of ms, it is the nerve-insulating myelin that comes under assault. such assaults may be linked to an unknown environmental trigger, perhaps a virus. most people experience their first symptoms of ms between the ages of 20 and 40; the initial symptom of ms is often blurred or double vision, red-green color distortion, or even blindness in one eye. most ms patients experience muscle weakness in their extremities and difficulty with coordination and balance. these symptoms may be severe enough to impair walking or even standing. in the worst cases, ms can produce partial or complete paralysis. most people with ms also exhibit paresthesias, transitory abnormal sensory feelings such as numbness, prickling, or \"pins and needles\" sensation\n",
      "==================================================\n",
      "Sample: 3:\n",
      "Input: Answer the following question: what is the outlook for dystonias ?\n",
      "Label: the initial symptoms can be very mild and may be noticeable only after prolonged exertion, stress, or fatigue. dystonias often progress through various stages. initially, dystonic movements are intermittent and appear only during voluntary movements or stress. later, individuals may show dystonic postures and movements while walking and ultimately even while they are relaxed. dystonic motions may lead to permanent physical deformities by causing tendons to shorten.\n",
      "==================================================\n"
     ]
    }
   ],
   "source": [
    "print(\"Validation Dataset Samples:\")\n",
    "for i in range(3):\n",
    "    try:\n",
    "        input_text = tokenizer.decode(val_dataset[i][\"input_ids\"], skip_special_tokens=True)\n",
    "        #Filter out -100 from label IDs\n",
    "        label_ids = [id for id in val_dataset[i][\"labels\"] if id != -100]\n",
    "        label_text = tokenizer.decode(label_ids, skip_special_tokens=True)\n",
    "        print(f\"Sample: {i+1}:\\nInput: {input_text}\\nLabel: {label_text}\\n{\"=\"*50}\")\n",
    "    except Exception as e:\n",
    "        print(f\"Error decoding sample: {i+1}: {e}\")"
   ]
  },
  {
   "cell_type": "code",
   "execution_count": 37,
   "id": "47a9de26-c078-4ed1-9078-edfe36dbf141",
   "metadata": {},
   "outputs": [
    {
     "name": "stdout",
     "output_type": "stream",
     "text": [
      "Answer the following question: what is the outlook for guillain-barr syndrome ?</s><pad><pad><pad><pad><pad><pad><pad><pad><pad><pad><pad><pad><pad><pad><pad><pad><pad><pad><pad><pad><pad><pad><pad><pad><pad><pad><pad><pad><pad><pad><pad><pad><pad><pad><pad><pad><pad><pad><pad><pad><pad><pad><pad><pad><pad><pad><pad><pad><pad><pad><pad><pad><pad><pad><pad><pad><pad><pad><pad><pad><pad><pad><pad><pad><pad><pad><pad><pad><pad><pad><pad><pad><pad><pad><pad><pad><pad><pad><pad><pad><pad><pad><pad><pad><pad><pad><pad><pad><pad><pad><pad><pad><pad><pad><pad><pad><pad><pad><pad><pad><pad><pad><pad><pad><pad><pad>\n",
      "the initial symptoms can be very mild and may be noticeable only after prolonged exertion, stress, or fatigue. dystonias often progress through various stages. initially, dystonic movements are intermittent and appear only during voluntary movements or stress. later, individuals may show dystonic postures and movements while walking and ultimately even while they are relaxed. dystonic motions may lead to permanent physical deformities by causing tendons to shorten.</s>\n"
     ]
    }
   ],
   "source": [
    "print(tokenizer.decode(train_dataset[0][\"input_ids\"]))\n",
    "print(tokenizer.decode(label_ids))"
   ]
  },
  {
   "cell_type": "code",
   "execution_count": 38,
   "id": "6216fcaa-1307-4121-a710-0e3c2912745b",
   "metadata": {},
   "outputs": [],
   "source": [
    "#Initialize training and evaluation metrics\n",
    "train_loss = []\n",
    "eval_loss = []\n",
    "eval_bleu = []\n",
    "eval_exact_match = []\n",
    "eval_rouge = []\n",
    "steps = []\n",
    "eval_steps = []\n",
    "#Extract training metrics\n",
    "for log in log_history:\n",
    "    if \"loss\" in log:\n",
    "        train_loss.append(log[\"loss\"])\n",
    "        steps.append(log[\"step\"])\n",
    "    if \"eval_loss\" in log:\n",
    "        eval_loss.append(log[\"eval_loss\"])\n",
    "        steps.append(log[\"step\"])\n",
    "    if \"eval_BLEU\" in log:\n",
    "        eval_bleu.append(log[\"eval_BLEU\"])\n",
    "    if \"eval_ROUGE-L\" in log:\n",
    "        eval_rouge.append(log[\"eval_ROUGE-L\"])\n",
    "    if \"eval_exact_match\" in log:\n",
    "        eval_exact_match.append(log[\"eval_exact_match\"])"
   ]
  },
  {
   "cell_type": "code",
   "execution_count": 39,
   "id": "6d639607-0d1e-4bf6-8e32-15866aa0eab5",
   "metadata": {},
   "outputs": [
    {
     "data": {
      "text/plain": [
       "5"
      ]
     },
     "execution_count": 39,
     "metadata": {},
     "output_type": "execute_result"
    }
   ],
   "source": [
    "#Check for the length of steps, train_loss, eval_loss\n",
    "min_len = min(len(steps), len(train_loss), len(eval_loss))\n",
    "min_len"
   ]
  },
  {
   "cell_type": "code",
   "execution_count": 40,
   "id": "b878ba28-3bb3-42d7-8dca-f6a9ba736828",
   "metadata": {},
   "outputs": [
    {
     "data": {
      "image/png": "[encoded data removed]",
      "text/plain": [
       "<Figure size 1000x600 with 1 Axes>"
      ]
     },
     "metadata": {},
     "output_type": "display_data"
    }
   ],
   "source": [
    "#Plot training and evaluation loss\n",
    "plt.figure(figsize=(10,6))\n",
    "plt.plot(steps[:min_len], train_loss[:min_len], label=\"Training Loss\", color=\"Orange\", marker=\"o\")\n",
    "plt.plot(steps[:min_len], eval_loss[:min_len], label=\"Eval Loss\", color=\"Blue\", marker=\"o\")\n",
    "plt.xlabel(\"Training steps\")\n",
    "plt.ylabel(\"Loss\")\n",
    "plt.title(\"Training Loss vs Eval Loss\")\n",
    "plt.legend()\n",
    "plt.grid(True)\n",
    "plt.tight_layout()\n",
    "plt.show()"
   ]
  },
  {
   "cell_type": "code",
   "execution_count": 41,
   "id": "a4c85d2b-32f8-4d34-81a9-885ee6e38a2a",
   "metadata": {},
   "outputs": [
    {
     "name": "stdout",
     "output_type": "stream",
     "text": [
      "0 5\n"
     ]
    },
    {
     "data": {
      "image/png": "[encoded data removed]",
      "text/plain": [
       "<Figure size 1000x600 with 1 Axes>"
      ]
     },
     "metadata": {},
     "output_type": "display_data"
    }
   ],
   "source": [
    "#Plot Bleu score vs Training loss\n",
    "print(len(eval_steps), len(eval_bleu))\n",
    "if len(eval_steps)==0:\n",
    "    eval_steps=list(range(len(eval_bleu)))\n",
    "plt.figure(figsize=(10,6))\n",
    "plt.plot(eval_steps, eval_bleu, label=\"BLEU\", marker=\"o\", linestyle=\"-\", color=\"green\")\n",
    "plt.xlabel(\"Training steps\")\n",
    "plt.ylabel(\"Metric score\")\n",
    "plt.title(\"BLEU vs Training Loss\")\n",
    "plt.grid(True)\n",
    "plt.tight_layout()\n",
    "plt.legend()\n",
    "plt.show()"
   ]
  },
  {
   "cell_type": "code",
   "execution_count": 42,
   "id": "03e647d1-3115-40ac-8cde-a1d0a8352c2b",
   "metadata": {},
   "outputs": [
    {
     "data": {
      "image/png": "[encoded data removed]",
      "text/plain": [
       "<Figure size 1000x600 with 1 Axes>"
      ]
     },
     "metadata": {},
     "output_type": "display_data"
    }
   ],
   "source": [
    "#Plot rouge vs Training loss\n",
    "plt.figure(figsize=(10,6))\n",
    "plt.plot(eval_steps, eval_rouge, label=\"ROUGE-L\", marker=\"o\", linestyle=\"-\", color=\"purple\")\n",
    "plt.xlabel(\"Training steps\")\n",
    "plt.ylabel(\"Metric score\")\n",
    "plt.title(\"ROUGE-L vs Training Loss\")\n",
    "plt.grid(True)\n",
    "plt.tight_layout()\n",
    "plt.legend()\n",
    "plt.show()"
   ]
  },
  {
   "cell_type": "code",
   "execution_count": 43,
   "id": "804b1b59-747a-4990-8621-4469f9060b45",
   "metadata": {},
   "outputs": [
    {
     "data": {
      "image/png": "[encoded data removed]",
      "text/plain": [
       "<Figure size 1000x600 with 1 Axes>"
      ]
     },
     "metadata": {},
     "output_type": "display_data"
    }
   ],
   "source": [
    "#Plot exact match\n",
    "plt.figure(figsize=(10,6))\n",
    "plt.plot(eval_steps, eval_exact_match, label=\"Exact Match\", marker=\"o\", linestyle=\"-\", color=\"yellow\")\n",
    "plt.xlabel(\"Training steps\")\n",
    "plt.ylabel(\"Metric score\")\n",
    "plt.title(\"Exact Match vs Training Loss\")\n",
    "plt.grid(True)\n",
    "plt.tight_layout()\n",
    "plt.legend()\n",
    "plt.show()"
   ]
  },
  {
   "cell_type": "code",
   "execution_count": 44,
   "id": "9ba599fb-d1cc-4bf8-9f99-e72a10a2f210",
   "metadata": {},
   "outputs": [
    {
     "data": {
      "text/plain": [
       "T5ForConditionalGeneration(\n",
       "  (shared): Embedding(32100, 768)\n",
       "  (encoder): T5Stack(\n",
       "    (embed_tokens): Embedding(32100, 768)\n",
       "    (block): ModuleList(\n",
       "      (0): T5Block(\n",
       "        (layer): ModuleList(\n",
       "          (0): T5LayerSelfAttention(\n",
       "            (SelfAttention): T5Attention(\n",
       "              (q): Linear(in_features=768, out_features=768, bias=False)\n",
       "              (k): Linear(in_features=768, out_features=768, bias=False)\n",
       "              (v): Linear(in_features=768, out_features=768, bias=False)\n",
       "              (o): Linear(in_features=768, out_features=768, bias=False)\n",
       "              (relative_attention_bias): Embedding(32, 12)\n",
       "            )\n",
       "            (layer_norm): T5LayerNorm()\n",
       "            (dropout): Dropout(p=0.1, inplace=False)\n",
       "          )\n",
       "          (1): T5LayerFF(\n",
       "            (DenseReluDense): T5DenseActDense(\n",
       "              (wi): Linear(in_features=768, out_features=3072, bias=False)\n",
       "              (wo): Linear(in_features=3072, out_features=768, bias=False)\n",
       "              (dropout): Dropout(p=0.1, inplace=False)\n",
       "              (act): ReLU()\n",
       "            )\n",
       "            (layer_norm): T5LayerNorm()\n",
       "            (dropout): Dropout(p=0.1, inplace=False)\n",
       "          )\n",
       "        )\n",
       "      )\n",
       "      (1-11): 11 x T5Block(\n",
       "        (layer): ModuleList(\n",
       "          (0): T5LayerSelfAttention(\n",
       "            (SelfAttention): T5Attention(\n",
       "              (q): Linear(in_features=768, out_features=768, bias=False)\n",
       "              (k): Linear(in_features=768, out_features=768, bias=False)\n",
       "              (v): Linear(in_features=768, out_features=768, bias=False)\n",
       "              (o): Linear(in_features=768, out_features=768, bias=False)\n",
       "            )\n",
       "            (layer_norm): T5LayerNorm()\n",
       "            (dropout): Dropout(p=0.1, inplace=False)\n",
       "          )\n",
       "          (1): T5LayerFF(\n",
       "            (DenseReluDense): T5DenseActDense(\n",
       "              (wi): Linear(in_features=768, out_features=3072, bias=False)\n",
       "              (wo): Linear(in_features=3072, out_features=768, bias=False)\n",
       "              (dropout): Dropout(p=0.1, inplace=False)\n",
       "              (act): ReLU()\n",
       "            )\n",
       "            (layer_norm): T5LayerNorm()\n",
       "            (dropout): Dropout(p=0.1, inplace=False)\n",
       "          )\n",
       "        )\n",
       "      )\n",
       "    )\n",
       "    (final_layer_norm): T5LayerNorm()\n",
       "    (dropout): Dropout(p=0.1, inplace=False)\n",
       "  )\n",
       "  (decoder): T5Stack(\n",
       "    (embed_tokens): Embedding(32100, 768)\n",
       "    (block): ModuleList(\n",
       "      (0): T5Block(\n",
       "        (layer): ModuleList(\n",
       "          (0): T5LayerSelfAttention(\n",
       "            (SelfAttention): T5Attention(\n",
       "              (q): Linear(in_features=768, out_features=768, bias=False)\n",
       "              (k): Linear(in_features=768, out_features=768, bias=False)\n",
       "              (v): Linear(in_features=768, out_features=768, bias=False)\n",
       "              (o): Linear(in_features=768, out_features=768, bias=False)\n",
       "              (relative_attention_bias): Embedding(32, 12)\n",
       "            )\n",
       "            (layer_norm): T5LayerNorm()\n",
       "            (dropout): Dropout(p=0.1, inplace=False)\n",
       "          )\n",
       "          (1): T5LayerCrossAttention(\n",
       "            (EncDecAttention): T5Attention(\n",
       "              (q): Linear(in_features=768, out_features=768, bias=False)\n",
       "              (k): Linear(in_features=768, out_features=768, bias=False)\n",
       "              (v): Linear(in_features=768, out_features=768, bias=False)\n",
       "              (o): Linear(in_features=768, out_features=768, bias=False)\n",
       "            )\n",
       "            (layer_norm): T5LayerNorm()\n",
       "            (dropout): Dropout(p=0.1, inplace=False)\n",
       "          )\n",
       "          (2): T5LayerFF(\n",
       "            (DenseReluDense): T5DenseActDense(\n",
       "              (wi): Linear(in_features=768, out_features=3072, bias=False)\n",
       "              (wo): Linear(in_features=3072, out_features=768, bias=False)\n",
       "              (dropout): Dropout(p=0.1, inplace=False)\n",
       "              (act): ReLU()\n",
       "            )\n",
       "            (layer_norm): T5LayerNorm()\n",
       "            (dropout): Dropout(p=0.1, inplace=False)\n",
       "          )\n",
       "        )\n",
       "      )\n",
       "      (1-11): 11 x T5Block(\n",
       "        (layer): ModuleList(\n",
       "          (0): T5LayerSelfAttention(\n",
       "            (SelfAttention): T5Attention(\n",
       "              (q): Linear(in_features=768, out_features=768, bias=False)\n",
       "              (k): Linear(in_features=768, out_features=768, bias=False)\n",
       "              (v): Linear(in_features=768, out_features=768, bias=False)\n",
       "              (o): Linear(in_features=768, out_features=768, bias=False)\n",
       "            )\n",
       "            (layer_norm): T5LayerNorm()\n",
       "            (dropout): Dropout(p=0.1, inplace=False)\n",
       "          )\n",
       "          (1): T5LayerCrossAttention(\n",
       "            (EncDecAttention): T5Attention(\n",
       "              (q): Linear(in_features=768, out_features=768, bias=False)\n",
       "              (k): Linear(in_features=768, out_features=768, bias=False)\n",
       "              (v): Linear(in_features=768, out_features=768, bias=False)\n",
       "              (o): Linear(in_features=768, out_features=768, bias=False)\n",
       "            )\n",
       "            (layer_norm): T5LayerNorm()\n",
       "            (dropout): Dropout(p=0.1, inplace=False)\n",
       "          )\n",
       "          (2): T5LayerFF(\n",
       "            (DenseReluDense): T5DenseActDense(\n",
       "              (wi): Linear(in_features=768, out_features=3072, bias=False)\n",
       "              (wo): Linear(in_features=3072, out_features=768, bias=False)\n",
       "              (dropout): Dropout(p=0.1, inplace=False)\n",
       "              (act): ReLU()\n",
       "            )\n",
       "            (layer_norm): T5LayerNorm()\n",
       "            (dropout): Dropout(p=0.1, inplace=False)\n",
       "          )\n",
       "        )\n",
       "      )\n",
       "    )\n",
       "    (final_layer_norm): T5LayerNorm()\n",
       "    (dropout): Dropout(p=0.1, inplace=False)\n",
       "  )\n",
       "  (lm_head): Linear(in_features=768, out_features=32100, bias=False)\n",
       ")"
      ]
     },
     "execution_count": 44,
     "metadata": {},
     "output_type": "execute_result"
    }
   ],
   "source": [
    "#Define paths to saved model\n",
    "model_path = \"./t5_chatbot1_model\"\n",
    "tokenizer_path =\"./t5-small\"\n",
    "\n",
    "#Load the tokenizer and model\n",
    "tokenizer = T5Tokenizer.from_pretrained(tokenizer_path)\n",
    "model = T5ForConditionalGeneration.from_pretrained(model_path)\n",
    "\n",
    "#Set the model to eval mode\n",
    "model.eval()"
   ]
  },
  {
   "cell_type": "code",
   "execution_count": 45,
   "id": "3c033db3-05cc-44b0-bd7d-c063077224f9",
   "metadata": {},
   "outputs": [],
   "source": [
    "#Generate a response using top_p top_k\n",
    "def generate_response_top_k_top_p(\n",
    "    question, model, tokenizer, max_length=256, top_k=50, top_p=0.95, temperature=1.0\n",
    "):\n",
    "      \n",
    "    formatted_question = f\"Question: {question}\\nAnswer:\"\n",
    "    inputs = tokenizer(\n",
    "        formatted_question,\n",
    "        return_tensors=\"pt\",\n",
    "        padding=True,\n",
    "        truncation=True,\n",
    "        max_length=max_length,\n",
    "    )\n",
    "    \n",
    "    outputs = model.generate(\n",
    "        input_ids=inputs[\"input_ids\"] ,\n",
    "        attention_mask=inputs[\"attention_mask\"],\n",
    "        max_length=max_length,\n",
    "        do_sample=True,\n",
    "        top_k=top_k,\n",
    "        top_p=top_p,\n",
    "        num_beams=None,\n",
    "        temperature=temperature,\n",
    "        pad_token_id=tokenizer.pad_token_id,\n",
    "    )\n",
    "    response = tokenizer.decode(outputs[0], skip_special_token=True)\n",
    "    return response"
   ]
  },
  {
   "cell_type": "code",
   "execution_count": 47,
   "id": "07cd5973-46c2-4627-8c39-0ed61bf6dd4b",
   "metadata": {},
   "outputs": [
    {
     "name": "stdout",
     "output_type": "stream",
     "text": [
      "Question: what is multiple sclerosis\n",
      "Answer: <pad> Multiple sclerosis is a disorder that has symptoms of a multiple diagnosis. it may include the inability to talk, or the mental inability to get information on how to recognize, protect and treat patients with the condition.</s>\n"
     ]
    }
   ],
   "source": [
    "question = \"what is multiple sclerosis\"\n",
    "response = generate_response_top_k_top_p(question, model, tokenizer)\n",
    "print(\"Question:\", question)\n",
    "print(\"Answer:\", response)"
   ]
  },
  {
   "cell_type": "code",
   "execution_count": 54,
   "id": "cfcf14d0-3f33-46e1-a02c-37768b208732",
   "metadata": {},
   "outputs": [
    {
     "name": "stdout",
     "output_type": "stream",
     "text": [
      "Question: what is gullain-barr-syndrome\n",
      "Answer: </s>Question: what is gullain-barr-syndrome Answer: the patient's report or his medical record? < / FREETEXT > < / TITLE > ▃ </s>\n"
     ]
    }
   ],
   "source": [
    "question = \"what is gullain-barr-syndrome\"\n",
    "response = generate_response_top_k_top_p(question, model, tokenizer)\n",
    "print(\"Question:\", question)\n",
    "print(\"Answer:\", response)"
   ]
  },
  {
   "cell_type": "code",
   "execution_count": 55,
   "id": "3ab0859c-84c1-4d8e-8871-7a2ed9de90eb",
   "metadata": {},
   "outputs": [],
   "source": [
    "#We are not getting the response we want. Let us use BioGPT-Large to get more accurate answers\n",
    "#Import transformers\n",
    "from transformers import BioGptTokenizer, BioGptForCausalLM\n",
    "model_name = \"microsoft/BioGPT-Large\"\n",
    "tokenizer = BioGptTokenizer.from_pretrained(model_name)\n",
    "model = BioGptForCausalLM.from_pretrained(model_name)"
   ]
  },
  {
   "cell_type": "code",
   "execution_count": 56,
   "id": "66a0f74a-b776-4670-8dd4-14e25f3c87c4",
   "metadata": {},
   "outputs": [
    {
     "data": {
      "text/plain": [
       "BioGptForCausalLM(\n",
       "  (biogpt): BioGptModel(\n",
       "    (embed_tokens): BioGptScaledWordEmbedding(57717, 1600, padding_idx=1)\n",
       "    (embed_positions): BioGptLearnedPositionalEmbedding(2050, 1600)\n",
       "    (layers): ModuleList(\n",
       "      (0-47): 48 x BioGptDecoderLayer(\n",
       "        (self_attn): BioGptSdpaAttention(\n",
       "          (k_proj): Linear(in_features=1600, out_features=1600, bias=True)\n",
       "          (v_proj): Linear(in_features=1600, out_features=1600, bias=True)\n",
       "          (q_proj): Linear(in_features=1600, out_features=1600, bias=True)\n",
       "          (out_proj): Linear(in_features=1600, out_features=1600, bias=True)\n",
       "        )\n",
       "        (activation_fn): GELUActivation()\n",
       "        (self_attn_layer_norm): LayerNorm((1600,), eps=1e-05, elementwise_affine=True)\n",
       "        (fc1): Linear(in_features=1600, out_features=6400, bias=True)\n",
       "        (fc2): Linear(in_features=6400, out_features=1600, bias=True)\n",
       "        (final_layer_norm): LayerNorm((1600,), eps=1e-05, elementwise_affine=True)\n",
       "      )\n",
       "    )\n",
       "    (layer_norm): LayerNorm((1600,), eps=1e-05, elementwise_affine=True)\n",
       "  )\n",
       "  (output_projection): Linear(in_features=1600, out_features=57717, bias=False)\n",
       ")"
      ]
     },
     "execution_count": 56,
     "metadata": {},
     "output_type": "execute_result"
    }
   ],
   "source": [
    "#Set the model to evaluation mode\n",
    "model.eval()"
   ]
  },
  {
   "cell_type": "code",
   "execution_count": 57,
   "id": "685f3116-56b0-48e5-8d7b-b05acfae4a91",
   "metadata": {},
   "outputs": [],
   "source": [
    "#Define a function to generate a response\n",
    "def generate_detailed_medical_response(question, tokenizer, model, max_length=200, max_new_tokens=200):\n",
    "    \n",
    "    formatted_question = (\n",
    "        f\"Title: {question}\\n\"\n",
    "        f\"Abstract:\"\n",
    "    )\n",
    "    #Tokenize the inputs\n",
    "    inputs = tokenizer(\n",
    "        formatted_question,\n",
    "        return_tensors=\"pt\",\n",
    "        padding=True,\n",
    "        truncation=True,\n",
    "        max_length=max_length,\n",
    "    )\n",
    "    #Tokenize the responses\n",
    "    outputs = model.generate(\n",
    "        input_ids=inputs[\"input_ids\"],\n",
    "        attention_mask=inputs[\"attention_mask\"],\n",
    "        do_sample=True,\n",
    "        max_new_tokens=max_new_tokens,\n",
    "        num_beams=5,\n",
    "        early_stopping=True,\n",
    "        pad_token_id=tokenizer.pad_token_id,\n",
    "    )\n",
    "    #Decode outputs\n",
    "    decoded = tokenizer.decode(outputs[0], skip_special_tokens=True)\n",
    "    response = decoded.replace(formatted_question, \" \").strip()\n",
    "    return response\n",
    "    \n"
   ]
  },
  {
   "cell_type": "code",
   "execution_count": 52,
   "id": "7577f80c-a6ea-4a0e-a07d-20a393b6bdc5",
   "metadata": {},
   "outputs": [
    {
     "name": "stdout",
     "output_type": "stream",
     "text": [
      "Question: What is gullain barre syndrome\n",
      "Response: Title: What is gullain barre syndrome Abstract: Gullain Barre syndrome (GBS) is an autoimmune disorder of the peripheral nervous system characterized by acute flaccid paralysis, areflexia, and sensory changes. It is the most common cause of acute flaccid paralysis in the United States, with an incidence of 1. 3 cases per 1 0 0, 0 0 0 person-years. GBS is classified into acute inflammatory demyelinating polyradiculoneuropathy (AIDP), acute motor axonal neuropathy (AMAN), and acute motor and sensory axonal neuropathy (AMSAN). AIDP is the most common subtype, accounting for 6 0% to 7 0% of cases, followed by AMAN (2 0% to 2 5%) and AMSAN (1 0% to 1 5%). < / FREETEXT > < / ABSTRACT > ▃\n"
     ]
    }
   ],
   "source": [
    "question = \"What is gullain barre syndrome\"\n",
    "response = generate_detailed_medical_response(question, tokenizer, model)\n",
    "print(\"Question:\", question)\n",
    "print(\"Response:\", response)"
   ]
  },
  {
   "cell_type": "code",
   "execution_count": 63,
   "id": "373cd516-5987-4221-a7f2-f12238162961",
   "metadata": {},
   "outputs": [
    {
     "name": "stdout",
     "output_type": "stream",
     "text": [
      "Question: How is hypertension treated\n",
      "Response: Title: How is hypertension treated Abstract: Hypertension is a major risk factor for cardiovascular morbidity and mortality. The prevalence of hypertension increases with age and is more common in men than in women. The treatment of hypertension is aimed at reducing blood pressure (BP) to < 1 4 0 / 9 0 mm Hg. This can be achieved in most patients with a combination of two or more antihypertensive agents. Lifestyle modification is an important part of the management of hypertension. < / FREETEXT > < / ABSTRACT > ▃\n"
     ]
    }
   ],
   "source": [
    "question = \"How is hypertension treated\"\n",
    "response = generate_detailed_medical_response(question, tokenizer, model)\n",
    "print(\"Question:\", question)\n",
    "print(\"Response:\", response)"
   ]
  },
  {
   "cell_type": "code",
   "execution_count": 56,
   "id": "10cf05f3-127b-4af7-9f75-8c12ec213088",
   "metadata": {},
   "outputs": [
    {
     "name": "stdout",
     "output_type": "stream",
     "text": [
      "Question: How is prostate cancer diagnosed\n",
      "Response: Title: How is prostate cancer diagnosed Abstract: Prostate cancer is the most common noncutaneous malignancy and the second leading cause of cancer-related death in men in the United States. Prostate-specific antigen (PSA) testing has led to a significant increase in the diagnosis of early-stage prostate cancer. However, the risk of overdiagnosis and overtreatment of low-risk prostate cancer remains high. The 2 0 1 2 American Urological Association (AUA) / American Society for Radiation Oncology (ASTRO) / International Society of Geriatric Oncology (SIOG) guidelines recommend active surveillance (AS) for men with low-risk prostate cancer who are willing to accept the risk of overdiagnosis and overtreatment. The 2 0 1 5 National Comprehensive Cancer Network (NCCN) guidelines recommend AS for men with low-risk prostate cancer who are willing to accept the risk of overdiagnosis and overtreatment. The AUA / ASTRO / SIOG guidelines and the 2 0 1 5 NCCN guidelines differ in their recommendations for men with low-risk prostate cancer\n"
     ]
    }
   ],
   "source": [
    "question = \"How is prostate cancer diagnosed\"\n",
    "response = generate_detailed_medical_response(question, tokenizer, model)\n",
    "print(\"Question:\", question)\n",
    "print(\"Response:\", response)"
   ]
  },
  {
   "cell_type": "code",
   "execution_count": 65,
   "id": "35fd1afc-d921-4983-833b-19614e54eebf",
   "metadata": {},
   "outputs": [
    {
     "name": "stdout",
     "output_type": "stream",
     "text": [
      "Question: What is breast cancer?\n",
      "Response: Title: What is breast cancer? Abstract: Breast cancer is the most common cancer in women worldwide and a leading cause of cancer-related death in women in the United States. Breast cancer is a heterogeneous disease, both clinically and molecularly. It is important to understand the molecular subtypes of breast cancer and how these subtypes differ in terms of prognosis and response to therapy. < / FREETEXT > < / PARAGRAPH > ▃ < PARAGRAPH > < FREETEXT > The molecular subtypes of breast cancer have been defined by gene expression profiling and include luminal A, luminal B, human epidermal growth factor receptor 2 (HER2) -enriched, basal-like, and claudin-low subtypes. The luminal A and luminal B subtypes are estrogen receptor (ER) – positive, and the HER2-enriched and basal-like subtypes are ER-negative. The claudin-low subtype is ER-negative, progesterone receptor (PR) – negative, and HER2-negative. The basal-like and claudin-low subtypes are characterized by the expression of genes associated with epithelial-to-mesenchymal transition (\n"
     ]
    }
   ],
   "source": [
    "question = \"What is breast cancer?\"\n",
    "response = generate_detailed_medical_response(question, tokenizer, model)\n",
    "print(\"Question:\", question)\n",
    "print(\"Response:\", response)"
   ]
  },
  {
   "cell_type": "code",
   "execution_count": 66,
   "id": "7a658be6-4d00-44c0-9b4c-0ebca46346ba",
   "metadata": {},
   "outputs": [],
   "source": [
    "def generate_detailed_medical_response(question, tokenizer, model, max_length=200, max_new_tokens=200):\n",
    "    formatted_question = (\n",
    "        f\"Title: {question}\\n\"\n",
    "        f\"Abstract:\"\n",
    "    )\n",
    "    inputs = tokenizer(\n",
    "        formatted_question,\n",
    "        return_tensors=\"pt\",\n",
    "        padding=True,\n",
    "        truncation=True,\n",
    "        max_length=max_length,\n",
    "    )\n",
    "    outputs = model.generate(\n",
    "        input_ids=inputs[\"input_ids\"],\n",
    "        attention_mask=inputs[\"attention_mask\"],\n",
    "        max_new_tokens=max_new_tokens,\n",
    "        do_sample=False,\n",
    "        early_stopping=True,\n",
    "        num_beams=5,\n",
    "        pad_token_id=tokenizer.pad_token_id\n",
    "    )\n",
    "    decoded = tokenizer.decode(outputs[0], skip_special_tokens=True)\n",
    "    response = decoded.replace(formatted_question, \" \").strip()\n",
    "    return response"
   ]
  },
  {
   "cell_type": "code",
   "execution_count": null,
   "id": "81c8d5ea-0b56-4f0b-bcf1-679cedf81969",
   "metadata": {},
   "outputs": [],
   "source": [
    "#Import Libraries\n",
    "import tkinter as tk\n",
    "from tkinter import *\n",
    "from transformers import BioGptTokenizer, BioGptForCausalLM"
   ]
  },
  {
   "cell_type": "code",
   "execution_count": 71,
   "id": "2bbaaa34-7220-4641-83c9-891a1b08756c",
   "metadata": {},
   "outputs": [],
   "source": [
    "#Build GUI Logic\n",
    "def chatbot_response(question):\n",
    "    return generate_detailed_medical_response(question, tokenizer, model)"
   ]
  },
  {
   "cell_type": "code",
   "execution_count": 76,
   "id": "834f1399-c67f-415f-925b-89b003e9cff7",
   "metadata": {},
   "outputs": [],
   "source": [
    "def send():\n",
    "    msg = EntryBox.get(\"1.0\", \"end-1c\").strip()\n",
    "    EntryBox.delete(\"0.0\", END)\n",
    "    if msg != \"\":\n",
    "        ChatLog.config(state=NORMAL)\n",
    "        ChatLog.insert(END, \"You: \" + msg + \"\\n\\n\")\n",
    "        ChatLog.config(foreground = \"#442265\", font=(\"Verdana\", 12))\n",
    "        res = chatbot_response(msg)\n",
    "        ChatLog.insert(END, \"BIOGPT: \" + res + \"\\n\\n\")\n",
    "        ChatLog.config(state=DISABLED)\n",
    "        ChatLog.yview(END)\n",
    "#Build GUI\n",
    "base = tk.Tk()\n",
    "base.title(\"BioGPT Medical Q&A\")\n",
    "base.geometry(\"500x600\")\n",
    "base.resizable(width=False, height=False)\n",
    "ChatLog = Text(base, bd=0, bg=\"white\", height=\"8\", width=\"50\", font=\"Arial\", wrap=WORD)\n",
    "ChatLog.config(state=DISABLED)\n",
    "scrollbar = Scrollbar(base, command=ChatLog.yview, cursor=\"heart\")\n",
    "ChatLog[\"yscrollcommand\"] = scrollbar.set\n",
    "SendButton = Button(base, font=(\"Verdana\", 12, \"bold\"), text=\"Ask\", width=\"12\", height=5, bd=0, bg=\"#32de97\", activebackground=\"#3c9d9b\", fg=\"#ffffff\", command=send)\n",
    "EntryBox = Text(base, bd=0, bg=\"white\", width=\"29\", height=\"5\", font=\"Arial\")\n",
    "EntryBox.bind(\"<Return>\", lambda event: send())\n",
    "scrollbar.place(x=476, y=6, height=486)\n",
    "ChatLog.place(x=6, y=6, height=486)\n",
    "EntryBox.place(x=128, y=501, height=90, width=365)\n",
    "SendButton.place(x=6, y=501, height=90)\n",
    "base.mainloop()"
   ]
  },
  {
   "cell_type": "code",
   "execution_count": 67,
   "id": "d9523114-6acd-472c-bb66-3b8fbd253cf9",
   "metadata": {},
   "outputs": [],
   "source": [
    "#Let us try chainlit for better perfomance\n",
    "#Define functions that handles incoming messages\n",
    "import chainlit as cl\n",
    "@cl.on_message\n",
    "async def handle_message(message: cl.Message):\n",
    "    user_question = message.content\n",
    "    await cl.Message(content=\"Generating Medical Respons. Please Await...\").send()\n",
    "    response = generate_detailed_medical_response(user_question, tokenizer, model)\n",
    "    await cl.Message(content=response).send()"
   ]
  },
  {
   "cell_type": "code",
   "execution_count": null,
   "id": "c8471974-20b3-4f28-93d7-d5bd75ef1269",
   "metadata": {},
   "outputs": [],
   "source": [
    "from transformers import AutoTokenizer, AutoModelForCausalLM\n",
    "bio_model_name = \"microsoft/BioGPT-Large\"\n",
    "bio_model_tokenizer = AutoTokenizer.from_pretrained(model_name)\n",
    "bio_model = AutoModelForCausalLM.from_pretrained(model_name)\n",
    "\n",
    "mistral_model_name = \"mistralai/Mistral-7B-Instruct-v0.2\"\n",
    "mistral_tokenizer = AutoTokenizer.from_pretrained(simple_model_name)\n",
    "mistral_model = AutoModelForCausalLM.from_pretrained(simple_model_name)\n",
    "\n",
    "def generate_detailed_medical_response(question, tokenizer, model, max_length=200, max_new_tokens=200):\n",
    "    formatted_question = (\n",
    "        f\"Title: {question}\\n\"\n",
    "        f\"Abstract:\"\n",
    "    )\n",
    "    inputs = tokenizer(\n",
    "        formatted_question,\n",
    "        return_tensors=\"pt\",\n",
    "        padding=True,\n",
    "        truncation=True,\n",
    "        max_length=max_length,\n",
    "    )\n",
    "    outputs = model.generate(\n",
    "        input_ids=inputs[\"input_ids\"],\n",
    "        attention_mask=inputs[\"attention_mask\"],\n",
    "        max_new_tokens=max_new_tokens,\n",
    "        do_sample=False,\n",
    "        early_stopping=True,\n",
    "        num_beams=5,\n",
    "        pad_token_id=tokenizer.pad_token_id\n",
    "    )\n",
    "    decoded = tokenizer.decode(outputs[0], skip_special_tokens=True)\n",
    "    response = decoded.replace(formatted_question, \" \").strip()\n",
    "    return response\n",
    "\n",
    "#Simplify for a non-medical audience\n",
    "def simplified_medical_answer(raw_answer, tokenizer, model, max_length=200, max_new_tokens=200):\n",
    "    simplified_answer = f\"Explain this for a general audience:\\n\\n{raw_answer}\\n\\nSimplified Answer\"\n",
    "    inputs = tokenizer(\n",
    "        simplified_answer,\n",
    "        return_tensors=\"pt\",\n",
    "        padding=True,\n",
    "        truncation=True,\n",
    "        max_length=max_length,\n",
    "    )\n",
    "    outputs = model.generate(\n",
    "        input_ids=inputs[\"input_ids\"],\n",
    "        attention_mask=inputs[\"attention_mask\"],\n",
    "        max_new_tokens=max_new_tokens,\n",
    "        do_sample=False,\n",
    "        early_stopping=True,\n",
    "        num_beams=5,\n",
    "        pad_token_id=tokenizer.pad_token_id\n",
    "    )\n",
    "    simplified_decoded = tokenizer.decode(outputs[0], skip_special_tokens=True)\n",
    "    response = simplified_decoded.replace(simplified_answer, \" \").strip()\n",
    "    return response"
   ]
  },
  {
   "cell_type": "code",
   "execution_count": null,
   "id": "c82f317c-e4b7-4668-867c-681a8ecaa2b4",
   "metadata": {},
   "outputs": [],
   "source": []
  }
 ],
 "metadata": {
  "kernelspec": {
   "display_name": "Python 3 (ipykernel)",
   "language": "python",
   "name": "python3"
  },
  "language_info": {
   "codemirror_mode": {
    "name": "ipython",
    "version": 3
   },
   "file_extension": ".py",
   "mimetype": "text/x-python",
   "name": "python",
   "nbconvert_exporter": "python",
   "pygments_lexer": "ipython3",
   "version": "3.12.0"
  }
 },
 "nbformat": 4,
 "nbformat_minor": 5
}
