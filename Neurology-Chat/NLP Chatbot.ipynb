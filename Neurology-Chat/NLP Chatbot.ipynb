{
 "cells": [
  {
   "cell_type": "code",
   "execution_count": 1,
   "id": "5491b45f-f370-4181-83a5-3ddb497a6b81",
   "metadata": {},
   "outputs": [
    {
     "name": "stderr",
     "output_type": "stream",
     "text": [
      "C:\\Users\\user\\AppData\\Local\\Programs\\Python\\Python312\\Lib\\site-packages\\tqdm\\auto.py:21: TqdmWarning: IProgress not found. Please update jupyter and ipywidgets. See https://ipywidgets.readthedocs.io/en/stable/user_install.html\n",
      "  from .autonotebook import tqdm as notebook_tqdm\n"
     ]
    },
    {
     "name": "stdout",
     "output_type": "stream",
     "text": [
      "WARNING:tensorflow:From C:\\Users\\user\\AppData\\Local\\Programs\\Python\\Python312\\Lib\\site-packages\\tf_keras\\src\\losses.py:2976: The name tf.losses.sparse_softmax_cross_entropy is deprecated. Please use tf.compat.v1.losses.sparse_softmax_cross_entropy instead.\n",
      "\n"
     ]
    }
   ],
   "source": [
    "import torch  # PyTorch for deep learning\n",
    "import numpy as np  # NumPy for numerical operations\n",
    "import pandas as pd  # Pandas for data manipulation\n",
    "import re  # Regular expressions for text processing and replaces a string to match a regular expression.\n",
    "import tensorflow as tf  # TensorFlow (not used in this script, but imported. \n",
    "import evaluate  # Library for evaluation metrics from  Hugging Face used to compute evaluation metrics like recall, precision, and accuracy.\n",
    "#Hugging Face - A company that provides state-of-the-art models, datasets, and tools for building ML models.\n",
    "import seaborn as sns  # Seaborn for data visualization\n",
    "import matplotlib.pyplot as plt  # Matplotlib for plotting\n",
    "import warnings  # To suppress warnings\n",
    "\n",
    "# Import Hugging Face Transformers components.\n",
    "from transformers import T5Tokenizer, T5ForConditionalGeneration, Seq2SeqTrainingArguments\n",
    "#T5Tokenizer- Tokenizes input text into IDs so that the T5 model can understand. \n",
    "#T5ForConditionalGeneration- Pretrained model for text generation, summarization, translation, and question answering.\n",
    "#Seq2SeqTrainingArguments- Defines training setting for seq-seq models like T5\n",
    "from transformers import Seq2SeqTrainer, DataCollatorForSeq2Seq, TrainerCallback, T5Config\n",
    "#Seq2SeqTrainer- Provides specialized training for seq2seq models like T5 and works with Seq2SeqTrainingArguments.\n",
    "#DataCollatorForSeq2Seq- Batches multiple models together for training.\n",
    "#TrainerCallback- Customizes training behavior by adding hooks at different stages which can be used to save logs.\n",
    "#T5Config- Defines the hyperparameters and architecture of a T5 model.\n",
    "\n",
    "# Import datasets for handling data\n",
    "from datasets import Dataset #Huge datasets for building NLP models, audio, and vision models.\n",
    "\n",
    "# Import scikit-learn for train-test split\n",
    "from sklearn.model_selection import train_test_split\n",
    "\n",
    "# Import PyTorch components for loss, optimization, and data handling\n",
    "from torch.nn import CrossEntropyLoss #Loss function for multi-class classification problems. Applies softmax automatically.\n",
    "from torch.optim import AdamW #Optimizer that updates model parameters during training. It correctly applies weight decay to prevent overfitting.\n",
    "#AdamW does not modify gradients.\n",
    "#It is a variation of Adam with weight decay improvement. Adam applies L2 regularization which does not correctly decouple weight decay from optimization.\n",
    "\n",
    "from torch.utils.data import TensorDataset #Used with DataLoader for efficient data loading during training. \n",
    "#It combines input features x and labels y into the same dataset and enables easy data handling using dataloader.\n",
    "\n",
    "from torchsummary import summary #Pytorch utility for summarizing the model's architecture.\n",
    "\n",
    "# Import defaultdict for handling dictionaries with default values. Automatically assigns a value to a key if it is accessed.\n",
    "from collections import defaultdict #Prevents KeyErrors\n",
    "\n",
    "# Suppress warnings to keep the output clean\n",
    "warnings.filterwarnings(\"ignore\")"
   ]
  },
  {
   "cell_type": "code",
   "execution_count": 2,
   "id": "2c91a2b9-532e-4381-91c5-78db8306c442",
   "metadata": {},
   "outputs": [
    {
     "name": "stdout",
     "output_type": "stream",
     "text": [
      "Data Sample:\n",
      "                                 question  \\\n",
      "0                What is (are) Glaucoma ?   \n",
      "1                  What causes Glaucoma ?   \n",
      "2     What are the symptoms of Glaucoma ?   \n",
      "3  What are the treatments for Glaucoma ?   \n",
      "4                What is (are) Glaucoma ?   \n",
      "\n",
      "                                              answer           source  \\\n",
      "0  Glaucoma is a group of diseases that can damag...  NIHSeniorHealth   \n",
      "1  Nearly 2.7 million people have glaucoma, a lea...  NIHSeniorHealth   \n",
      "2  Symptoms of Glaucoma  Glaucoma can develop in ...  NIHSeniorHealth   \n",
      "3  Although open-angle glaucoma cannot be cured, ...  NIHSeniorHealth   \n",
      "4  Glaucoma is a group of diseases that can damag...  NIHSeniorHealth   \n",
      "\n",
      "  focus_area  \n",
      "0   Glaucoma  \n",
      "1   Glaucoma  \n",
      "2   Glaucoma  \n",
      "3   Glaucoma  \n",
      "4   Glaucoma  \n",
      "Null Value Data:\n",
      "question       0\n",
      "answer         5\n",
      "source         0\n",
      "focus_area    14\n",
      "dtype: int64\n",
      "Number of duplicate rows: 48\n",
      "Table Info:\n",
      "<class 'pandas.core.frame.DataFrame'>\n",
      "RangeIndex: 16364 entries, 0 to 16363\n",
      "Data columns (total 2 columns):\n",
      " #   Column    Non-Null Count  Dtype \n",
      "---  ------    --------------  ----- \n",
      " 0   question  16364 non-null  object\n",
      " 1   answer    16359 non-null  object\n",
      "dtypes: object(2)\n",
      "memory usage: 255.8+ KB\n",
      "None\n",
      "Null Value Data After Cleaning:\n",
      "question    0\n",
      "answer      0\n",
      "dtype: int64\n",
      "Unique questions: 13843\n",
      "Unique answers: 13851\n",
      "Final Dataset Info:\n",
      "<class 'pandas.core.frame.DataFrame'>\n",
      "RangeIndex: 13857 entries, 0 to 13856\n",
      "Data columns (total 2 columns):\n",
      " #   Column    Non-Null Count  Dtype \n",
      "---  ------    --------------  ----- \n",
      " 0   question  13857 non-null  object\n",
      " 1   answer    13857 non-null  object\n",
      "dtypes: object(2)\n",
      "memory usage: 216.6+ KB\n",
      "Final Data Sample:\n"
     ]
    },
    {
     "data": {
      "text/html": [
       "<div>\n",
       "<style scoped>\n",
       "    .dataframe tbody tr th:only-of-type {\n",
       "        vertical-align: middle;\n",
       "    }\n",
       "\n",
       "    .dataframe tbody tr th {\n",
       "        vertical-align: top;\n",
       "    }\n",
       "\n",
       "    .dataframe thead th {\n",
       "        text-align: right;\n",
       "    }\n",
       "</style>\n",
       "<table border=\"1\" class=\"dataframe\">\n",
       "  <thead>\n",
       "    <tr style=\"text-align: right;\">\n",
       "      <th></th>\n",
       "      <th>question</th>\n",
       "      <th>answer</th>\n",
       "    </tr>\n",
       "  </thead>\n",
       "  <tbody>\n",
       "    <tr>\n",
       "      <th>0</th>\n",
       "      <td>what is glaucoma ?</td>\n",
       "      <td>glaucoma is a group of diseases that can damag...</td>\n",
       "    </tr>\n",
       "    <tr>\n",
       "      <th>1</th>\n",
       "      <td>what causes glaucoma ?</td>\n",
       "      <td>nearly 2.7 million people have glaucoma, a lea...</td>\n",
       "    </tr>\n",
       "    <tr>\n",
       "      <th>2</th>\n",
       "      <td>what are the symptoms of glaucoma ?</td>\n",
       "      <td>symptoms of glaucoma glaucoma can develop in o...</td>\n",
       "    </tr>\n",
       "    <tr>\n",
       "      <th>3</th>\n",
       "      <td>what are the treatments for glaucoma ?</td>\n",
       "      <td>although open-angle glaucoma cannot be cured, ...</td>\n",
       "    </tr>\n",
       "    <tr>\n",
       "      <th>4</th>\n",
       "      <td>who is at risk for glaucoma? ?</td>\n",
       "      <td>anyone can develop glaucoma. some people are a...</td>\n",
       "    </tr>\n",
       "  </tbody>\n",
       "</table>\n",
       "</div>"
      ],
      "text/plain": [
       "                                 question  \\\n",
       "0                      what is glaucoma ?   \n",
       "1                  what causes glaucoma ?   \n",
       "2     what are the symptoms of glaucoma ?   \n",
       "3  what are the treatments for glaucoma ?   \n",
       "4          who is at risk for glaucoma? ?   \n",
       "\n",
       "                                              answer  \n",
       "0  glaucoma is a group of diseases that can damag...  \n",
       "1  nearly 2.7 million people have glaucoma, a lea...  \n",
       "2  symptoms of glaucoma glaucoma can develop in o...  \n",
       "3  although open-angle glaucoma cannot be cured, ...  \n",
       "4  anyone can develop glaucoma. some people are a...  "
      ]
     },
     "execution_count": 2,
     "metadata": {},
     "output_type": "execute_result"
    }
   ],
   "source": [
    "# Load the dataset from a CSV file\n",
    "df = pd.read_csv(\"medquad.csv\")\n",
    "\n",
    "# Display a sample of the data to understand its structure\n",
    "print(\"Data Sample:\")\n",
    "print(df.head())\n",
    "\n",
    "# Check for null values in the dataset\n",
    "print(\"Null Value Data:\")\n",
    "print(df.isnull().sum())\n",
    "\n",
    "# Define a list of common question words to filter relevant questions\n",
    "question_words = ['what', 'who', 'why', 'when', 'where', 'how', 'is', 'are', 'does', 'do', 'can', 'will', 'shall']\n",
    "\n",
    "# Convert all questions to lowercase for consistent filtering\n",
    "df['question'] = df['question'].str.lower()\n",
    "\n",
    "# Filter rows where the question starts with one of the question words\n",
    "df = df[df['question'].str.split().str[0].isin(question_words)]\n",
    "\n",
    "# Reset the index after filtering\n",
    "df = df.reset_index(drop=True)\n",
    "\n",
    "# Check for duplicate rows in the dataset\n",
    "duplicates = df.duplicated()\n",
    "print(f\"Number of duplicate rows: {duplicates.sum()}\")\n",
    "\n",
    "# Remove duplicate rows to ensure data uniqueness\n",
    "df = df.drop_duplicates()\n",
    "\n",
    "# Reset the index after removing duplicates\n",
    "df.reset_index(drop=True, inplace=True)\n",
    "\n",
    "# Drop unused columns ('source' and 'focus_area') to simplify the dataset\n",
    "df = df.drop(columns=['source', 'focus_area'])\n",
    "\n",
    "# Display dataset information (columns, data types, and non-null counts)\n",
    "print(\"Table Info:\")\n",
    "print(df.info())\n",
    "\n",
    "# Remove duplicate rows based on the 'question' and 'answer' columns\n",
    "df = df.drop_duplicates(subset='question', keep='first').reset_index(drop=True)\n",
    "df = df.drop_duplicates(subset='answer', keep='first').reset_index(drop=True)\n",
    "\n",
    "# Drop rows with null values in the 'question' or 'answer' columns\n",
    "df = df.dropna(subset=['question', 'answer']).reset_index(drop=True)\n",
    "\n",
    "# Fill any remaining null values with empty strings and convert to string type\n",
    "df['question'] = df['question'].fillna('').astype(str)\n",
    "df['answer'] = df['answer'].fillna('').astype(str)\n",
    "\n",
    "# Define a function to clean text by removing parentheses and extra spaces\n",
    "def clean_text(text):\n",
    "    text = re.sub(r\"\\(.*?\\)\", \"\", text)  # Remove text within parentheses.\n",
    "    text = re.sub(r'\\s+', ' ', text.strip().lower())  # Normalize spaces and convert to lowercase\n",
    "    return text\n",
    "#\\(- matches opening parentheses, .*?- Matches any text inside the parentheses, /)- Matches closing parentheses.\n",
    "\n",
    "# Apply the clean_text function to the 'question' and 'answer' columns\n",
    "df['question'] = df['question'].apply(clean_text)\n",
    "df['answer'] = df['answer'].apply(clean_text)\n",
    "\n",
    "# Further clean the text by ensuring lowercase, stripping whitespace, and normalizing spaces\n",
    "df['question'] = df['question'].str.lower().str.strip().apply(lambda x: re.sub(r'\\s+', ' ', x))\n",
    "df['answer'] = df['answer'].str.lower().str.strip().apply(lambda x: re.sub(r'\\s+', ' ', x))\n",
    "#Lambda applies function to each row or a column in a dataset. Allows to compute and transform values efficiently.\n",
    "\n",
    "# Check for null values again after cleaning\n",
    "print(\"Null Value Data After Cleaning:\")\n",
    "print(df.isnull().sum())\n",
    "\n",
    "# Check the number of unique questions and answers in the dataset\n",
    "print(f\"Unique questions: {df['question'].nunique()}\")\n",
    "print(f\"Unique answers: {df['answer'].nunique()}\")\n",
    "\n",
    "# Display dataset information and a sample of the cleaned data\n",
    "print(\"Final Dataset Info:\")\n",
    "df.info()\n",
    "print(\"Final Data Sample:\")\n",
    "df.head()"
   ]
  },
  {
   "cell_type": "code",
   "execution_count": 3,
   "id": "01078aec-0976-4b7d-96a8-a3c6175b20bc",
   "metadata": {
    "scrolled": true
   },
   "outputs": [
    {
     "name": "stderr",
     "output_type": "stream",
     "text": [
      "You are using the default legacy behaviour of the <class 'transformers.models.t5.tokenization_t5.T5Tokenizer'>. This is expected, and simply means that the `legacy` (previous) behavior will be used so nothing changes for you. If you want to use the new behaviour, set `legacy=False`. This should only be set if you understand what it means, and thoroughly read the reason why this was added as explained in https://github.com/huggingface/transformers/pull/24565\n"
     ]
    },
    {
     "name": "stdout",
     "output_type": "stream",
     "text": [
      "\n",
      "Detailed Model Summary:\n",
      "==================================================\n",
      "Layer Type                    Count     Parameters     \n",
      "=======================================================\n",
      "T5ForConditionalGeneration    1         222,882,048    \n",
      "Embedding                     3         24,653,568     \n",
      "T5Stack                       2         247,534,848    \n",
      "ModuleList                    26        396,455,424    \n",
      "T5Block                       24        198,227,712    \n",
      "T5LayerSelfAttention          24        56,642,304     \n",
      "T5Attention                   36        84,935,424     \n",
      "Linear                        193       222,833,664    \n",
      "T5LayerNorm                   62        47,616         \n",
      "Dropout                       86        0              \n",
      "T5LayerFF                     24        113,264,640    \n",
      "T5DenseActDense               24        113,246,208    \n",
      "ReLU                          24        0              \n",
      "T5LayerCrossAttention         12        28,320,768     \n"
     ]
    },
    {
     "name": "stderr",
     "output_type": "stream",
     "text": [
      "Map (num_proc=4): 100%|██████████████████████████████████████████████████| 11778/11778 [00:42<00:00, 276.43 examples/s]\n",
      "Map (num_proc=4): 100%|█████████████████████████████████████████████████████| 2079/2079 [00:21<00:00, 95.05 examples/s]\n",
      "Passing a tuple of `past_key_values` is deprecated and will be removed in Transformers v4.48.0. You should pass an instance of `EncoderDecoderCache` instead, e.g. `past_key_values=EncoderDecoderCache.from_legacy_cache(past_key_values)`.\n"
     ]
    },
    {
     "data": {
      "text/html": [
       "\n",
       "    <div>\n",
       "      \n",
       "      <progress value='3680' max='3680' style='width:300px; height:20px; vertical-align: middle;'></progress>\n",
       "      [3680/3680 99:38:31, Epoch 4/5]\n",
       "    </div>\n",
       "    <table border=\"1\" class=\"dataframe\">\n",
       "  <thead>\n",
       " <tr style=\"text-align: left;\">\n",
       "      <th>Epoch</th>\n",
       "      <th>Training Loss</th>\n",
       "      <th>Validation Loss</th>\n",
       "      <th>Exact Match</th>\n",
       "      <th>Bleu</th>\n",
       "      <th>Rouge-l</th>\n",
       "    </tr>\n",
       "  </thead>\n",
       "  <tbody>\n",
       "    <tr>\n",
       "      <td>1</td>\n",
       "      <td>3.200800</td>\n",
       "      <td>3.035998</td>\n",
       "      <td>0.000962</td>\n",
       "      <td>0.027675</td>\n",
       "      <td>0.222536</td>\n",
       "    </tr>\n",
       "    <tr>\n",
       "      <td>2</td>\n",
       "      <td>2.991400</td>\n",
       "      <td>2.910582</td>\n",
       "      <td>0.000962</td>\n",
       "      <td>0.034610</td>\n",
       "      <td>0.255671</td>\n",
       "    </tr>\n",
       "    <tr>\n",
       "      <td>3</td>\n",
       "      <td>2.852100</td>\n",
       "      <td>2.851270</td>\n",
       "      <td>0.001443</td>\n",
       "      <td>0.038292</td>\n",
       "      <td>0.254100</td>\n",
       "    </tr>\n",
       "    <tr>\n",
       "      <td>4</td>\n",
       "      <td>2.734700</td>\n",
       "      <td>2.823321</td>\n",
       "      <td>0.001924</td>\n",
       "      <td>0.041055</td>\n",
       "      <td>0.265423</td>\n",
       "    </tr>\n",
       "  </tbody>\n",
       "</table><p>"
      ],
      "text/plain": [
       "<IPython.core.display.HTML object>"
      ]
     },
     "metadata": {},
     "output_type": "display_data"
    },
    {
     "name": "stderr",
     "output_type": "stream",
     "text": [
      "Trainer.tokenizer is now deprecated. You should use Trainer.processing_class instead.\n",
      "Trainer.tokenizer is now deprecated. You should use Trainer.processing_class instead.\n",
      "Trainer.tokenizer is now deprecated. You should use Trainer.processing_class instead.\n",
      "Trainer.tokenizer is now deprecated. You should use Trainer.processing_class instead.\n",
      "Trainer.tokenizer is now deprecated. You should use Trainer.processing_class instead.\n",
      "Trainer.tokenizer is now deprecated. You should use Trainer.processing_class instead.\n",
      "Trainer.tokenizer is now deprecated. You should use Trainer.processing_class instead.\n",
      "Trainer.tokenizer is now deprecated. You should use Trainer.processing_class instead.\n",
      "Trainer.tokenizer is now deprecated. You should use Trainer.processing_class instead.\n",
      "Trainer.tokenizer is now deprecated. You should use Trainer.processing_class instead.\n"
     ]
    }
   ],
   "source": [
    "# Define the model name and load the T5 configuration\n",
    "model_name = \"t5-base\"\n",
    "config = T5Config.from_pretrained(model_name)\n",
    "\n",
    "# Customize the configuration\n",
    "config.dropout_rate = 0.1  # Set dropout rate to 0.1 for regularization. Defines dropout probability.\n",
    "#Dropout- Regularization technique that sets some neurons to zero to prevent overfitting. \n",
    "#In this case, 10% of neurons are deactivated at every step.\n",
    "\n",
    "config.feed_forward_proj = \"gelu\"  # Use GELU activation for the feed-forward layers.\n",
    "#RELU(Rectified Linear Unit)- If neurons get stuck at zero, they might get stuck to learning.\n",
    "#GELU(Gaussian Error Linear Unit)- Allows small negative values instead of putting them to zero hence smoother activation.\n",
    "\n",
    "# Load the pre-trained T5 model with the customized configuration\n",
    "model = T5ForConditionalGeneration.from_pretrained(model_name, config=config)\n",
    "\n",
    "# Load the tokenizer for the T5 model\n",
    "tokenizer = T5Tokenizer.from_pretrained(model_name)\n",
    "\n",
    "# Explicitly resize the token embeddings to match the tokenizer's vocabulary size so that it allows tokenizer to be modified like adding new words.\n",
    "model.resize_token_embeddings(len(tokenizer))\n",
    "\n",
    "# Print a detailed summary of the model architecture\n",
    "print(\"\\nDetailed Model Summary:\")\n",
    "print(\"=\" * 50)\n",
    "\n",
    "def summarize_model_by_type(model):\n",
    "    \"\"\"\n",
    "    Summarizes the model by counting the number of layers and parameters for each layer type.\n",
    "    \"\"\"\n",
    "    layer_summary = defaultdict(int)  # Counts the number of layers by type\n",
    "    param_summary = defaultdict(int)  # Counts the number of parameters by layer type\n",
    "\n",
    "    for name, module in model.named_modules(): #Lists all layers in the model by names, used for debugging and helps in customizing pretrained model.\n",
    "        layer_type = type(module).__name__  # Get the type of the current module\n",
    "        layer_summary[layer_type] += 1  # Increment the count for this layer type. Counts occurences of each layer type.\n",
    "        param_summary[layer_type] += sum(p.numel() for p in module.parameters())  # Sum parameters. Counts the total parameters per layer type.\n",
    "\n",
    "    # Print the summary table\n",
    "    print(f\"{'Layer Type':<30}{'Count':<10}{'Parameters':<15}\") #<30-Makes layer type column 30 xters wide, <10-Aligns count column, <15-formats parameters counts with commas.\n",
    "    print(\"=\" * 55)\n",
    "    for layer_type, count in layer_summary.items():\n",
    "        print(f\"{layer_type:<30}{count:<10}{param_summary[layer_type]:<15,}\")\n",
    "\n",
    "summarize_model_by_type(model)\n",
    "\n",
    "# Define a preprocessing function for the seq2seq task\n",
    "def preprocess_function(batch, tokenizer): #Adds batch and tokenizer in the function\n",
    "    \"\"\"\n",
    "    Preprocesses the dataset by tokenizing the inputs and targets.\n",
    "    \"\"\"\n",
    "    # Format the inputs and targets\n",
    "    inputs = [f\"answer the following question: {q}\" for q in batch['question']] #Contains formatted prompts.\n",
    "    targets = [f\"{a}\" for a in batch['answer']] #Contains predicted and expected answers.\n",
    "    #pt-Pytorch tensors.\n",
    "    #What are tensors? multi-dimensional array that serves as a fundamental data structure in ML and DL.\n",
    "\n",
    "    #Tokenize the inputs. \n",
    "    model_inputs = tokenizer(\n",
    "\t\tinputs,\n",
    "\t\tmax_length=128,\n",
    "\t\ttruncation=True,\n",
    "\t\tpadding=\"max_length\",\n",
    "\t)\n",
    "    #Tokenize the targets\n",
    "    labels = tokenizer(\n",
    "\t\ttargets,\n",
    "\t\tmax_length=256,\n",
    "\t\ttruncation=True,\n",
    "\t\tpadding=\"max_length\",\n",
    "\t)[\"input_ids\"]#Extract input_ids directly\n",
    "\n",
    "    # Replace padding token IDs with -100 for the loss function to ignore them. \n",
    "    labels = [[token if token != tokenizer.pad_token_id else -100 for token in label] for label in labels]\n",
    "    model_inputs[\"labels\"] = labels\n",
    "    return model_inputs\n",
    "#Why convert padded token ids to -100? T5ForConditionalGeneration uses CrossEntropyLoss for loss computation which ignores -100.\n",
    "\n",
    "# Split the dataset into training and validation sets\n",
    "train_df, val_df = train_test_split(df, test_size=0.15, random_state=42)\n",
    "\n",
    "# Convert the pandas DataFrames to Hugging Face Dataset objects\n",
    "train_dataset = Dataset.from_pandas(train_df)\n",
    "val_dataset = Dataset.from_pandas(val_df)\n",
    "\n",
    "#Import partial to allow inclusion of tokenizer and preprocess function on the same line.\n",
    "from functools import partial\n",
    "\n",
    "# Wrap preprocess_function to include tokenizer\n",
    "preprocess_with_tokenizer = partial(preprocess_function, tokenizer=tokenizer)\n",
    "\n",
    "# Preprocess the training and validation datasets using the map() function.\n",
    "train_dataset = train_dataset.map(\n",
    "    preprocess_with_tokenizer, #Function that processes data and tokenizes the data.\n",
    "    batched=True, #Apply batches to data instead of single examples; hence efficiency is maintained.\n",
    "    batch_size=32,  # Process in batches of 32 at a time to allow large handling of datasets without running out of memory.\n",
    "    remove_columns=train_dataset.column_names,  # Remove original columns to ensure only processed outputs(tokenized inputs) remains.\n",
    "    num_proc=4,  # Use 4 processes for parallel processing to speed up data transformation.\n",
    ")\n",
    "\n",
    "val_dataset = val_dataset.map(\n",
    "    preprocess_with_tokenizer, #Function that processes and tokenizes the data.\n",
    "    batched=True, #Apply batches to data instead of single examples.\n",
    "    batch_size=32,  # Process in batches of 32 to allow large handling of data.\n",
    "    remove_columns=val_dataset.column_names,  # Remove original columns to ensure only processed output remains.\n",
    "    num_proc=4,  # Use 4 processes for parallel processing to speed up data transformation.\n",
    ")\n",
    "\n",
    "# Define training arguments\n",
    "training_args = Seq2SeqTrainingArguments(\n",
    "    output_dir=\"./results\",# Directory to save the model and results\n",
    "    resume_from_checkpoint=True, #Let the model resume from the last checkpoint after interruption.\n",
    "    evaluation_strategy=\"epoch\",  # Evaluate after each epoch\n",
    "    save_total_limit=2,  # Keep only the last 2 checkpoints.\n",
    "    learning_rate=5e-4,  # Learning rate.\n",
    "    num_train_epochs=5,  # Number of training epochs.\n",
    "    per_device_train_batch_size=8,  # Batch size for training.\n",
    "    per_device_eval_batch_size=8,  # Batch size for evaluation.\n",
    "    lr_scheduler_type=\"cosine_with_restarts\",  # Learning rate scheduler.\n",
    "    warmup_ratio=0.1,  # Warmup ratio for the scheduler.\n",
    "    weight_decay=0.05,  # Weight decay for regularization.\n",
    "    predict_with_generate=True,  # Generate predictions during evaluation.\n",
    "    fp16=True,  # Use mixed precision for faster training\n",
    "    logging_dir=\"./logs\",  # Directory for logs\n",
    "    logging_steps=50,  # Log every 50 steps\n",
    "    metric_for_best_model=\"exact_match\",  # Use exact match as the primary metric\n",
    "    greater_is_better=True,  # Higher exact match is better\n",
    "    report_to=\"none\",  # Disable external reporting\n",
    "    gradient_accumulation_steps=2,  # Accumulate gradients over 2 steps\n",
    "    max_grad_norm=0.5,  # Gradient clipping\n",
    "    optim=\"adamw_torch_fused\",  # Use fused AdamW optimizer\n",
    "    generation_max_length=64,  # Maximum length for generated text\n",
    "    generation_num_beams=6,  # Number of beams for beam search\n",
    "    dataloader_num_workers=0,  # Number of workers for data loading\n",
    "    group_by_length=True,  # Group sequences by length for efficiency\n",
    "    remove_unused_columns=True,  # Remove unused columns from the dataset\n",
    "    label_smoothing_factor=0.1,  # Apply label smoothing\n",
    ")\n",
    "\n",
    "# Initialize the data collator for seq2seq tasks\n",
    "data_collator = DataCollatorForSeq2Seq(\n",
    "    tokenizer=tokenizer,\n",
    "    model=model,\n",
    "    padding='longest',  # Pad sequences to the longest in the batch\n",
    "    return_tensors=\"pt\",  # Return PyTorch tensors\n",
    ")\n",
    "\n",
    "# Define a function to compute evaluation metrics\n",
    "def compute_metrics(eval_pred, tokenizer):\n",
    "    \"\"\"\n",
    "    Computes exact match, BLEU, and ROUGE-L metrics for evaluation.\n",
    "    \"\"\"\n",
    "    predictions, labels = eval_pred\n",
    "\n",
    "    # Decode predictions and labels\n",
    "    decoded_preds = tokenizer.batch_decode(predictions, skip_special_tokens=True) #Converts predicted token IDs into text.  \n",
    "    # Skip_special_tokens- Removes special tokens like pad.\n",
    "    labels = np.where(labels != -100, labels, tokenizer.pad_token_id) #Replace -100 with pad_r=token_id to allow for decoding.\n",
    "    decoded_labels = tokenizer.batch_decode(labels, skip_special_tokens=True) #Converts predicted ground truth IDs into text.\n",
    "\n",
    "    # Normalize text for comparison\n",
    "    decoded_preds = [text.strip().lower() for text in decoded_preds] #Remove the text spaces and convert everything to lowercase.\n",
    "    decoded_labels = [text.strip().lower() for text in decoded_labels] #Remove the text spaces and convert everything to lowercase.\n",
    "\n",
    "    # Compute exact match to measure the exact match of the inputs.\n",
    "    exact_match = np.mean([p == l for p, l in zip(decoded_preds, decoded_labels)]) #Compares each prediction (p) to correspons=ding ground truth label 1.\n",
    "    #Mean calculates the average score. Returns 1 if true otherwise false (0). Exact match is used for strictly fact-based questions where answers have to be identical.\n",
    "\n",
    "\n",
    "    #BLEU - Bilingual Evaluation Understudy, ROUGE - Recall Oriented Understudy for Gisting Evaluation. \n",
    "    # Load BLEU and ROUGE metrics that measure partial matches as exact match is strict. They are flexible.\n",
    "    bleu_metric = evaluate.load(\"bleu\") #Best for ML models as it checks how well predicted phrases match.\n",
    "    rouge_metric = evaluate.load(\"rouge\") #Best for text summarization, translation, text generation, and paraphrasing. Rouge L uses Longest Common Subsequence for more flexible comparison.\n",
    "\n",
    "    # Compute BLEU score\n",
    "    bleu_score = bleu_metric.compute( #Calculates blue metrics\n",
    "        predictions=decoded_preds, #List of generated text predictions\n",
    "        references=[[label] for label in decoded_labels] #decoded labels is a list of ground truth. Bleu expects multiple references for each prediction hence enclosed.\n",
    "    )[\"bleu\"]\n",
    "\n",
    "    # Compute ROUGE-L score\n",
    "    rouge_score = rouge_metric.compute( #Calculates rouge score for predictions\n",
    "        predictions=decoded_preds, #List of decoded text predictions\n",
    "        references=decoded_labels #No need to wrap the references. Decode ground truths.\n",
    "    )[\"rougeL\"] #Extract Rouge-l score directly for Longest Common Subsequence.\n",
    "\n",
    "    #Return exact match, BLUE, and Rouge-L scores.\n",
    "    return {\n",
    "        \"exact_match\": exact_match,\n",
    "        \"BLEU\": bleu_score,\n",
    "        \"ROUGE-L\": rouge_score,\n",
    "    }\n",
    "\n",
    "# Initialize the Seq2SeqTrainer for specialized training.\n",
    "trainer = Seq2SeqTrainer(\n",
    "    model=model, #Add the model\n",
    "    args=training_args, #Add the training arguments\n",
    "    train_dataset=train_dataset, #Add the training dataset\n",
    "    eval_dataset=val_dataset, #Add the validation dataset for train_test_split\n",
    "    tokenizer=tokenizer, #Add the tokenizer\n",
    "    data_collator=data_collator, #Add datacollator that batches multiple models together\n",
    "    compute_metrics=lambda eval_pred: compute_metrics(eval_pred, tokenizer), #Apply the compute metrics using lambda fuction.\n",
    ")\n",
    "\n",
    "# Train the model\n",
    "trainer.train()\n",
    "\n",
    "# Save the trained model and tokenizer\n",
    "trainer.save_model(\"./t5_chatbot_model\")\n",
    "tokenizer.save_pretrained(\"./t5_chatbot_tokenizer\")\n",
    "\n",
    "# Save the model's state dictionary\n",
    "model_path = \"./t5_chatbot_model.h5\"\n",
    "torch.save(model.state_dict(), model_path)\n",
    "\n",
    "# Save the training log history\n",
    "log_history = trainer.state.log_history"
   ]
  },
  {
   "cell_type": "code",
   "execution_count": 31,
   "id": "d9313fa3-5b5e-4a2f-955a-ea9edf393b99",
   "metadata": {},
   "outputs": [
    {
     "name": "stdout",
     "output_type": "stream",
     "text": [
      "5\n"
     ]
    }
   ],
   "source": [
    "min_len = min(len(steps), len(train_loss), len(eval_loss))\n",
    "print(min_len)"
   ]
  },
  {
   "cell_type": "code",
   "execution_count": 14,
   "id": "8bbe4f68-9ddb-4700-a5f2-c6d4e3ea8d91",
   "metadata": {},
   "outputs": [
    {
     "data": {
      "image/png": "[encoded data removed]",
      "text/plain": [
       "<Figure size 1000x600 with 1 Axes>"
      ]
     },
     "metadata": {},
     "output_type": "display_data"
    }
   ],
   "source": [
    "#Initialize training and evaluation loss metrics\n",
    "train_loss = [] #Used to store training loss\n",
    "eval_loss = [] #Used to store evaluation loss\n",
    "eval_bleu = [] #Used to store eval bleu\n",
    "eval_exact_match = [] #Used to store eval_exact_match\n",
    "eval_rouge = [] #Used to store eval rouge\n",
    "steps = [] #Used to store steps\n",
    "eval_steps = [] #Used to store eval steps.\n",
    "\n",
    "#Extract training metrics from log history\n",
    "for log in log_history:\n",
    "    if \"loss\" in log: #Check if loss is in log\n",
    "        train_loss.append(log[\"loss\"]) #Append training loss\n",
    "        steps.append(log[\"step\"]) #Append steps\n",
    "    if \"eval_loss\" in log: #Check if eval_loss is in log\n",
    "        eval_loss.append(log[\"eval_loss\"]) #Append eval loss\n",
    "        steps.append(log[\"step\"]) #Append steps\n",
    "    if \"eval_BLEU\" in log: #Check if eval_bleu is in log\n",
    "        eval_bleu.append(log[\"eval_BLEU\"]) #Append eval_bleu\n",
    "    if \"eval_ROUGE-L\" in log: #Check if eval_rouge is in log\n",
    "        eval_rouge.append(log[\"eval_ROUGE-L\"]) #Append eval_rouge\n",
    "    if \"eval_exact_match\" in log: #Check if exact match is in log\n",
    "        eval_exact_match.append(log[\"eval_exact_match\"]) #Append exact_match\n",
    "#Plot the training and evaluation loss.\n",
    "plt.figure(figsize=(10,6))\n",
    "plt.plot(steps[:len(train_loss)] , train_loss, label=\"Training Loss\", color=\"blue\", marker=\"o\") #Plot the training loss steps\n",
    "plt.plot(steps[:len(eval_loss)], eval_loss, label=\"Evaluation Loss\", color=\"orange\", marker=\"o\") #Plot the eval loss steps\n",
    "plt.xlabel(\"Training Steps\")\n",
    "plt.ylabel(\"Loss\")\n",
    "plt.title(\"Training vs Evaluation Loss\")\n",
    "plt.legend()\n",
    "plt.grid(True)\n",
    "plt.show()"
   ]
  },
  {
   "cell_type": "code",
   "execution_count": 15,
   "id": "e2812dfc-effc-4b74-80c2-8e20a3033922",
   "metadata": {},
   "outputs": [
    {
     "name": "stdout",
     "output_type": "stream",
     "text": [
      "78 73 5\n"
     ]
    }
   ],
   "source": [
    "#Print length of steps, training loss and eval loss.\n",
    "print(len(steps), len(train_loss), len(eval_loss))"
   ]
  },
  {
   "cell_type": "code",
   "execution_count": 19,
   "id": "95dc4b6a-6fad-4ae7-a357-1e92d64de4af",
   "metadata": {},
   "outputs": [
    {
     "data": {
      "image/png": "[encoded data removed]",
      "text/plain": [
       "<Figure size 1000x600 with 1 Axes>"
      ]
     },
     "metadata": {},
     "output_type": "display_data"
    }
   ],
   "source": [
    "plt.figure(figsize=(10,6))\n",
    "plt.plot(eval_steps, eval_bleu, label=\"BLEU\", marker=\"o\", linestyle=\"-\", color=\"green\") #Plot eval_steps and eval_bleu.\n",
    "plt.xlabel(\"Training steps\")\n",
    "plt.ylabel(\"Metric Score\")\n",
    "plt.title(\"BLEU score over Training Steps\")\n",
    "plt.legend()\n",
    "plt.grid(True)\n",
    "plt.tight_layout()\n",
    "plt.show()"
   ]
  },
  {
   "cell_type": "code",
   "execution_count": 20,
   "id": "84112323-b5b0-472d-9d1d-1a68c574184d",
   "metadata": {},
   "outputs": [
    {
     "name": "stdout",
     "output_type": "stream",
     "text": [
      "5 5\n"
     ]
    },
    {
     "data": {
      "image/png": "[encoded data removed]",
      "text/plain": [
       "<Figure size 1000x600 with 1 Axes>"
      ]
     },
     "metadata": {},
     "output_type": "display_data"
    }
   ],
   "source": [
    "#Plot the rouge score\n",
    "print(len(eval_steps), len(eval_rouge)) #Check the length of eval_steps and eval_rouge.\n",
    "plt.figure(figsize=(10,6))\n",
    "plt.plot(eval_steps, eval_rouge, label=\"ROUGE-L\", marker=\"o\", color=\"red\", linestyle=\"-\") #Plot eval_steps and eval_rouge\n",
    "plt.xlabel(\"Training Steps\")\n",
    "plt.ylabel(\"Metric Score\")\n",
    "plt.title(\"ROUGE-L vs Training steps\")\n",
    "plt.grid(True)\n",
    "plt.tight_layout()\n",
    "plt.legend()\n",
    "plt.show()"
   ]
  },
  {
   "cell_type": "code",
   "execution_count": 21,
   "id": "1995c9c8-8155-45a8-b20a-3804fc0a0e5e",
   "metadata": {},
   "outputs": [
    {
     "name": "stdout",
     "output_type": "stream",
     "text": [
      "5 5\n"
     ]
    },
    {
     "data": {
      "image/png": "[encoded data removed]",
      "text/plain": [
       "<Figure size 1000x600 with 1 Axes>"
      ]
     },
     "metadata": {},
     "output_type": "display_data"
    }
   ],
   "source": [
    "#Plot exact match scores\n",
    "print(len(eval_steps), len(eval_exact_match)) #Make sure the length of eval_steps and exact match are the same.\n",
    "plt.figure(figsize=(10,6))\n",
    "plt.plot(eval_steps, eval_exact_match, label=\"Exact Match\", color=\"black\", linestyle=\"-\", marker=\"o\") #Plot eval_steps and eval_exact_match\n",
    "plt.xlabel(\"Training Steps\")\n",
    "plt.ylabel(\"Metric Score\")\n",
    "plt.title(\"Exact Match vs Training Steps\")\n",
    "plt.tight_layout()\n",
    "plt.legend()\n",
    "plt.grid(True)\n",
    "plt.show()"
   ]
  },
  {
   "cell_type": "code",
   "execution_count": 22,
   "id": "5dd0a23f-92b5-49ee-a83a-654ad3105c08",
   "metadata": {},
   "outputs": [
    {
     "data": {
      "text/plain": [
       "T5ForConditionalGeneration(\n",
       "  (shared): Embedding(32100, 768)\n",
       "  (encoder): T5Stack(\n",
       "    (embed_tokens): Embedding(32100, 768)\n",
       "    (block): ModuleList(\n",
       "      (0): T5Block(\n",
       "        (layer): ModuleList(\n",
       "          (0): T5LayerSelfAttention(\n",
       "            (SelfAttention): T5Attention(\n",
       "              (q): Linear(in_features=768, out_features=768, bias=False)\n",
       "              (k): Linear(in_features=768, out_features=768, bias=False)\n",
       "              (v): Linear(in_features=768, out_features=768, bias=False)\n",
       "              (o): Linear(in_features=768, out_features=768, bias=False)\n",
       "              (relative_attention_bias): Embedding(32, 12)\n",
       "            )\n",
       "            (layer_norm): T5LayerNorm()\n",
       "            (dropout): Dropout(p=0.1, inplace=False)\n",
       "          )\n",
       "          (1): T5LayerFF(\n",
       "            (DenseReluDense): T5DenseActDense(\n",
       "              (wi): Linear(in_features=768, out_features=3072, bias=False)\n",
       "              (wo): Linear(in_features=3072, out_features=768, bias=False)\n",
       "              (dropout): Dropout(p=0.1, inplace=False)\n",
       "              (act): ReLU()\n",
       "            )\n",
       "            (layer_norm): T5LayerNorm()\n",
       "            (dropout): Dropout(p=0.1, inplace=False)\n",
       "          )\n",
       "        )\n",
       "      )\n",
       "      (1-11): 11 x T5Block(\n",
       "        (layer): ModuleList(\n",
       "          (0): T5LayerSelfAttention(\n",
       "            (SelfAttention): T5Attention(\n",
       "              (q): Linear(in_features=768, out_features=768, bias=False)\n",
       "              (k): Linear(in_features=768, out_features=768, bias=False)\n",
       "              (v): Linear(in_features=768, out_features=768, bias=False)\n",
       "              (o): Linear(in_features=768, out_features=768, bias=False)\n",
       "            )\n",
       "            (layer_norm): T5LayerNorm()\n",
       "            (dropout): Dropout(p=0.1, inplace=False)\n",
       "          )\n",
       "          (1): T5LayerFF(\n",
       "            (DenseReluDense): T5DenseActDense(\n",
       "              (wi): Linear(in_features=768, out_features=3072, bias=False)\n",
       "              (wo): Linear(in_features=3072, out_features=768, bias=False)\n",
       "              (dropout): Dropout(p=0.1, inplace=False)\n",
       "              (act): ReLU()\n",
       "            )\n",
       "            (layer_norm): T5LayerNorm()\n",
       "            (dropout): Dropout(p=0.1, inplace=False)\n",
       "          )\n",
       "        )\n",
       "      )\n",
       "    )\n",
       "    (final_layer_norm): T5LayerNorm()\n",
       "    (dropout): Dropout(p=0.1, inplace=False)\n",
       "  )\n",
       "  (decoder): T5Stack(\n",
       "    (embed_tokens): Embedding(32100, 768)\n",
       "    (block): ModuleList(\n",
       "      (0): T5Block(\n",
       "        (layer): ModuleList(\n",
       "          (0): T5LayerSelfAttention(\n",
       "            (SelfAttention): T5Attention(\n",
       "              (q): Linear(in_features=768, out_features=768, bias=False)\n",
       "              (k): Linear(in_features=768, out_features=768, bias=False)\n",
       "              (v): Linear(in_features=768, out_features=768, bias=False)\n",
       "              (o): Linear(in_features=768, out_features=768, bias=False)\n",
       "              (relative_attention_bias): Embedding(32, 12)\n",
       "            )\n",
       "            (layer_norm): T5LayerNorm()\n",
       "            (dropout): Dropout(p=0.1, inplace=False)\n",
       "          )\n",
       "          (1): T5LayerCrossAttention(\n",
       "            (EncDecAttention): T5Attention(\n",
       "              (q): Linear(in_features=768, out_features=768, bias=False)\n",
       "              (k): Linear(in_features=768, out_features=768, bias=False)\n",
       "              (v): Linear(in_features=768, out_features=768, bias=False)\n",
       "              (o): Linear(in_features=768, out_features=768, bias=False)\n",
       "            )\n",
       "            (layer_norm): T5LayerNorm()\n",
       "            (dropout): Dropout(p=0.1, inplace=False)\n",
       "          )\n",
       "          (2): T5LayerFF(\n",
       "            (DenseReluDense): T5DenseActDense(\n",
       "              (wi): Linear(in_features=768, out_features=3072, bias=False)\n",
       "              (wo): Linear(in_features=3072, out_features=768, bias=False)\n",
       "              (dropout): Dropout(p=0.1, inplace=False)\n",
       "              (act): ReLU()\n",
       "            )\n",
       "            (layer_norm): T5LayerNorm()\n",
       "            (dropout): Dropout(p=0.1, inplace=False)\n",
       "          )\n",
       "        )\n",
       "      )\n",
       "      (1-11): 11 x T5Block(\n",
       "        (layer): ModuleList(\n",
       "          (0): T5LayerSelfAttention(\n",
       "            (SelfAttention): T5Attention(\n",
       "              (q): Linear(in_features=768, out_features=768, bias=False)\n",
       "              (k): Linear(in_features=768, out_features=768, bias=False)\n",
       "              (v): Linear(in_features=768, out_features=768, bias=False)\n",
       "              (o): Linear(in_features=768, out_features=768, bias=False)\n",
       "            )\n",
       "            (layer_norm): T5LayerNorm()\n",
       "            (dropout): Dropout(p=0.1, inplace=False)\n",
       "          )\n",
       "          (1): T5LayerCrossAttention(\n",
       "            (EncDecAttention): T5Attention(\n",
       "              (q): Linear(in_features=768, out_features=768, bias=False)\n",
       "              (k): Linear(in_features=768, out_features=768, bias=False)\n",
       "              (v): Linear(in_features=768, out_features=768, bias=False)\n",
       "              (o): Linear(in_features=768, out_features=768, bias=False)\n",
       "            )\n",
       "            (layer_norm): T5LayerNorm()\n",
       "            (dropout): Dropout(p=0.1, inplace=False)\n",
       "          )\n",
       "          (2): T5LayerFF(\n",
       "            (DenseReluDense): T5DenseActDense(\n",
       "              (wi): Linear(in_features=768, out_features=3072, bias=False)\n",
       "              (wo): Linear(in_features=3072, out_features=768, bias=False)\n",
       "              (dropout): Dropout(p=0.1, inplace=False)\n",
       "              (act): ReLU()\n",
       "            )\n",
       "            (layer_norm): T5LayerNorm()\n",
       "            (dropout): Dropout(p=0.1, inplace=False)\n",
       "          )\n",
       "        )\n",
       "      )\n",
       "    )\n",
       "    (final_layer_norm): T5LayerNorm()\n",
       "    (dropout): Dropout(p=0.1, inplace=False)\n",
       "  )\n",
       "  (lm_head): Linear(in_features=768, out_features=32100, bias=False)\n",
       ")"
      ]
     },
     "execution_count": 22,
     "metadata": {},
     "output_type": "execute_result"
    }
   ],
   "source": [
    "#Define paths to saved model\n",
    "model_path = \"t5_chatbot_model\"\n",
    "tokenizer_path = \"t5_chatbot_tokenizer\"\n",
    "#Load the tokenizer and model from saved path\n",
    "tokenizer = T5Tokenizer.from_pretrained(tokenizer_path)\n",
    "model = T5ForConditionalGeneration.from_pretrained(model_path)\n",
    "#Set the model to eval mode\n",
    "model.eval()"
   ]
  },
  {
   "cell_type": "code",
   "execution_count": 23,
   "id": "d6917bbf-e91a-42fd-a445-446e7d57f67a",
   "metadata": {},
   "outputs": [],
   "source": [
    "#Generate a response using topk and top p sampling.\n",
    "def generate_response_top_k_top_p(\n",
    "    question, model, tokenizer, max_length=256, top_k=50, top_p=0.95, temperature=1.0\n",
    "):\n",
    "    \"\"\"\n",
    "    question- input question, model- Pretrained language model, max_length- Max no. of tokens in the generated response,\n",
    "    tokenizer of the associated model, top_k- Keeps the most likely next words, top_p- Keeps the smallest sum of words whose probabilities sum upto p(0.95)\n",
    "    temperature- controls the randomness of predictions. \n",
    "    Temp >1.0 - More randomness(Chooses less probable words), Temp <1.0 - More deterministic(Picks highly probable words)\n",
    "    \"\"\"\n",
    "    #Format the question for the model\n",
    "    formatted_question = f\"Question: {question}\\nAnswer:\"\n",
    "    #Tokenize the input question\n",
    "    inputs = tokenizer(\n",
    "        formatted_question,\n",
    "        return_tensors=\"pt\", #Return pytorch tensors\n",
    "        padding=True, #Pad sequences to same length\n",
    "        truncation=True, #Truncate sequences longer that max_length\n",
    "        max_length=max_length, #Maximum length of the input\n",
    "    )\n",
    "    #Generate a response using top_k, top_p\n",
    "    outputs = model.generate(\n",
    "        input_ids=inputs[\"input_ids\"], #Input token IDs\n",
    "        attention_mask=inputs[\"attention_mask\"], #Attention Mask to tell the model which tokens should be attended to and which one should be ignored.\n",
    "        max_length=max_length, #Maximum length of generated response\n",
    "        do_sample=True, #Enable sampling instead of greedy beam searching.\n",
    "        top_k=top_k, #Top_k sampling token_ids\n",
    "        top_p=top_p, #Considering smallest of token with cumulative probability >= top_p\n",
    "        temperature=temperature, #Adjust randomness\n",
    "        pad_token_id=tokenizer.pad_token_id, #Token ID for padding\n",
    "    )\n",
    "    #Decode the generated response into human readable string\n",
    "    response = tokenizer.batch_decode(outputs, skip_special_tokens=True)[0]\n",
    "    return response"
   ]
  },
  {
   "cell_type": "code",
   "execution_count": 32,
   "id": "39a6f208-73de-42ae-b071-ee9e01638684",
   "metadata": {},
   "outputs": [
    {
     "name": "stdout",
     "output_type": "stream",
     "text": [
      "Question: What is Alzheimer's\n",
      "Response: Alzheimer's is a very complex disease of the brain that affects about half of people. it causes some of the brain symptoms of the disease. it can affect people of all ages. people with Alzheimer's can develop dementia in a few weeks. the disease usually gets worse over time with increased activity, more frequent and frequent attacks, and worsened symptoms of this condition over a year or more. a lack of movement can have grave effects on people of all ages. people with Alzheimer's may also experience problems with feeding, sitting, and chewing. the same brain abnormalities may occur with Alzheimer's disease. some people with Alzheimer's have increased levels of calcium, sodium, potassium, potassium, and calcium in their urine . nih: national institute of neurological disorders and stroke\n"
     ]
    }
   ],
   "source": [
    "#Example usage\n",
    "question = \"What is Alzheimer's\"\n",
    "response = generate_response_top_k_top_p(question, model, tokenizer)\n",
    "print(\"Question:\", question)\n",
    "print(\"Response:\", response)"
   ]
  },
  {
   "cell_type": "code",
   "execution_count": 25,
   "id": "3c6afd67-7faf-4268-9732-5996b9b85d7f",
   "metadata": {},
   "outputs": [
    {
     "name": "stdout",
     "output_type": "stream",
     "text": [
      "Question: What causes hypertension\n",
      "Response: many factors can cause hypertension, including - genetics - environmental factors - certain types of drugs - certain types of infections - certain diseases - autoimmune diseases many factors trigger hypertension. these include - chronic and chronic kidney disease - certain genetic diseases - diseases that can increase the risk of hypertension, including osteoporosis, spheromegaly, and stroke - a family history of hypertension - genetic factors that affect your ability to gain weight and maintain a healthy weight - genetic factors that affect your health, including heart, hair, and teeth - genetic factors that influence your risk for hypertension, such as diabetes and obesity - genetic factors that can trigger hypertension, such as tobacco exposures - high cholesterol, a family history of hypertension - diabetes and obesity, such as diabetes, high blood cholesterol, and blood pressure, such as diabetes and prediabetes - pregnancy risk factors for hypertension include - diets high in a high carbohydrate diet with a low  cholesterol diet with high cholesterol diet with high fibers and high levels of ketones and other cholesterol-containing proteins - smoking - not dietary\n"
     ]
    }
   ],
   "source": [
    "question = \"What causes hypertension\"\n",
    "response = generate_response_top_k_top_p(question, model, tokenizer)\n",
    "print(\"Question:\", question)\n",
    "print(\"Response:\", response)"
   ]
  },
  {
   "cell_type": "code",
   "execution_count": 26,
   "id": "b7fdedef-d2a1-40ff-a10b-204f462dae58",
   "metadata": {},
   "outputs": [
    {
     "name": "stdout",
     "output_type": "stream",
     "text": [
      "Question: What is the physical examination of prostate cancer\n",
      "Response: your doctor will ask about your symptoms as you go through an exam. a health care provider probably will order a physical exam at an advanced stage to check for prostate cancer. a physical exam is a test that checks the body's response to new situations and how well the body's cells work. it might include: - the size of the ureter: a series of detailed pictures. a sample of prostate tissue is taken of the skin, groin, and kidneys. the test measures how well the prostate is working. - the type of prostate cancer the doctor or nurse removes the patient's prostate, and he or she then inserts the sample of tissue out of the bloodstream. the samples are then scanned through the machine. the procedure happens after treatment is completed. the samples are then transferred to the test lab for analysis.\n"
     ]
    }
   ],
   "source": [
    "question = \"What is the physical examination of prostate cancer\"\n",
    "response = generate_response_top_k_top_p(question, model, tokenizer)\n",
    "print(\"Question:\", question)\n",
    "print(\"Response:\", response)"
   ]
  },
  {
   "cell_type": "code",
   "execution_count": 27,
   "id": "036f01aa-8dc3-4146-8380-c58dbb3d346b",
   "metadata": {},
   "outputs": [
    {
     "name": "stdout",
     "output_type": "stream",
     "text": [
      "Question: How can you treat prostate cancer\n",
      "Response: your treatment options can depend on your overall health, the risk for prostate cancer, the stage of the cancer, the signs and symptoms that your cancer has, and whether you have symptoms. prostate cancer also is a tough tumor. most people who receive early treatment do not need treatment. treatment is very important. in most cases, you'll treat men who have it. during a prostate exam, you'll examine your urine and blood in a machine. for example, your doctor might ask you to check your prostate. for example, a biopsy is a procedure you take to remove debris from the prostate. the process is similar to that of a tumor cell. you can also take a sample of tissue from the prostate into a machine and have a sample of tissue from your prostate. the sample contains more than 200 images. more than 100 videos are made every year, and it's good for the picture. if you feel sad after the procedure, your doctor may ask questions about your bowel movements. if your bowel is feeling stressed, the bowel may feel full, or numb. if you're sad , you may feel tired. you are also able to lose some weight and\n"
     ]
    }
   ],
   "source": [
    "question = \"How can you treat prostate cancer\"\n",
    "response = generate_response_top_k_top_p(question, model, tokenizer)\n",
    "print(\"Question:\", question)\n",
    "print(\"Response:\", response)"
   ]
  },
  {
   "cell_type": "code",
   "execution_count": 28,
   "id": "5dfd663d-39f9-48ea-8b82-36fad390976c",
   "metadata": {},
   "outputs": [
    {
     "name": "stdout",
     "output_type": "stream",
     "text": [
      "Question: I feel dizzy and light headed, what might be the problem?\n",
      "Response: my body is not always aware of the signs and symptoms of dizzy or lightheadedness. when the fainting is due to it, my body does not respond well to its signals. however, my mind is usually completely clear. the problem is usually the symptoms of light headed and dizzy situations. some people are at an increased risk for dizziness and lightheadedness. others may have a mild or no dizziness, but are very happy to talk with their health care provider.\n"
     ]
    }
   ],
   "source": [
    "question = \"I feel dizzy and light headed, what might be the problem?\"\n",
    "response = generate_response_top_k_top_p(question, model, tokenizer)\n",
    "print(\"Question:\", question)\n",
    "print(\"Response:\", response)"
   ]
  },
  {
   "cell_type": "code",
   "execution_count": 29,
   "id": "0026715a-decd-4d4b-9f88-6e900d088e32",
   "metadata": {},
   "outputs": [
    {
     "name": "stdout",
     "output_type": "stream",
     "text": [
      "Question: I fell down and hurt my knee. I now do physiotherapy but the pain is still there. What should I do?\n",
      "Response: key points - you are reading about my falling down and hurting my knee during my yoga class. - you've made choices about how to - keep your joints healthy - find your comfort zone with physiotherapy. - keep your knees healthy to get as much rest as you can. - remember your posture at yoga class. - avoid contact with your feet. - wash your hands frequently, even when you walk. - follow the instructions on a regular basis.\n"
     ]
    }
   ],
   "source": [
    "question = \"I fell down and hurt my knee. I now do physiotherapy but the pain is still there. What should I do?\"\n",
    "response = generate_response_top_k_top_p(question, model, tokenizer)\n",
    "print(\"Question:\", question)\n",
    "print(\"Response:\", response)"
   ]
  },
  {
   "cell_type": "code",
   "execution_count": 30,
   "id": "fd4fe1b5-1f1e-4c92-981a-fc09fc6813d1",
   "metadata": {},
   "outputs": [
    {
     "name": "stdout",
     "output_type": "stream",
     "text": [
      "Question: What is glaucoma?\n",
      "Response: glaucoma is an eye problem that affects the glaucoma type of skin. you may have a tint to the eye called red or grayish patches, which may be a sign of damage or discomfort. glaucoma affects more than half the world's population, affecting about 50 percent of the world's population. some of these spots are caused by bacteria and viruses, causing an increased risk of infections or allergies. some of these spots are due to the development of a skin cancer called microtrauma. otherglaucoma is usually malignant. it occurs most often on the scalp. it is found at all the scalp, but it does not affect everyone's eyes. eye problems are more common in people with glaucoma than other eye conditions. if you have symptoms, you may be younger than 18 years of age and have normal eyesight. but if you are overweight or have symptoms other than blindness, you may have symptoms. glaucoma can be hard to treat. but they can be difficult to diagnose, and treatments depend on the cause. symptoms include - blurred vision - blurring of\n"
     ]
    }
   ],
   "source": [
    "question = \"What is glaucoma?\"\n",
    "response = generate_response_top_k_top_p(question, model, tokenizer)\n",
    "print(\"Question:\", question)\n",
    "print(\"Response:\", response)"
   ]
  },
  {
   "cell_type": "code",
   "execution_count": null,
   "id": "097420ac-de29-4b78-910b-4646f848b948",
   "metadata": {},
   "outputs": [],
   "source": [
    "#since the responses we are getting are gibberish, it is better to get a response from BioGPT"
   ]
  },
  {
   "cell_type": "code",
   "execution_count": 36,
   "id": "0a0b8715-e541-4aeb-bd01-ff00ea65f909",
   "metadata": {},
   "outputs": [
    {
     "name": "stdout",
     "output_type": "stream",
     "text": [
      "Note: you may need to restart the kernel to use updated packages.\n"
     ]
    }
   ],
   "source": [
    "pip install transformers torch accelerate"
   ]
  },
  {
   "cell_type": "code",
   "execution_count": 201,
   "id": "761a4dbe-f5dc-486a-b9b5-cbb5de13c9c9",
   "metadata": {},
   "outputs": [],
   "source": [
    "import os\n",
    "os.environ[\"HF_HUB_READ_TIMEOUT\"] = \"60\"\n",
    "os.environ[\"HF_HUB_READ_CONNECT_TIMEOUT\"] = \"60\""
   ]
  },
  {
   "cell_type": "code",
   "execution_count": 202,
   "id": "99971c3b-d0e1-4f12-bb99-1cac070a1491",
   "metadata": {},
   "outputs": [],
   "source": [
    "#Load BioGPT\n",
    "from transformers import BioGptTokenizer, BioGptForCausalLM\n",
    "model_name = \"microsoft/BioGPT-Large\"\n",
    "tokenizer = BioGptTokenizer.from_pretrained(model_name)\n",
    "model = BioGptForCausalLM.from_pretrained(model_name)"
   ]
  },
  {
   "cell_type": "code",
   "execution_count": 203,
   "id": "bd9d7fd5-0c2d-4ec5-909c-caed60c0e5f2",
   "metadata": {},
   "outputs": [
    {
     "data": {
      "text/plain": [
       "BioGptForCausalLM(\n",
       "  (biogpt): BioGptModel(\n",
       "    (embed_tokens): BioGptScaledWordEmbedding(57717, 1600, padding_idx=1)\n",
       "    (embed_positions): BioGptLearnedPositionalEmbedding(2050, 1600)\n",
       "    (layers): ModuleList(\n",
       "      (0-47): 48 x BioGptDecoderLayer(\n",
       "        (self_attn): BioGptSdpaAttention(\n",
       "          (k_proj): Linear(in_features=1600, out_features=1600, bias=True)\n",
       "          (v_proj): Linear(in_features=1600, out_features=1600, bias=True)\n",
       "          (q_proj): Linear(in_features=1600, out_features=1600, bias=True)\n",
       "          (out_proj): Linear(in_features=1600, out_features=1600, bias=True)\n",
       "        )\n",
       "        (activation_fn): GELUActivation()\n",
       "        (self_attn_layer_norm): LayerNorm((1600,), eps=1e-05, elementwise_affine=True)\n",
       "        (fc1): Linear(in_features=1600, out_features=6400, bias=True)\n",
       "        (fc2): Linear(in_features=6400, out_features=1600, bias=True)\n",
       "        (final_layer_norm): LayerNorm((1600,), eps=1e-05, elementwise_affine=True)\n",
       "      )\n",
       "    )\n",
       "    (layer_norm): LayerNorm((1600,), eps=1e-05, elementwise_affine=True)\n",
       "  )\n",
       "  (output_projection): Linear(in_features=1600, out_features=57717, bias=False)\n",
       ")"
      ]
     },
     "execution_count": 203,
     "metadata": {},
     "output_type": "execute_result"
    }
   ],
   "source": [
    "model.eval()"
   ]
  },
  {
   "cell_type": "code",
   "execution_count": 213,
   "id": "84119840-492b-44b0-84ce-33a72b3f15b5",
   "metadata": {},
   "outputs": [],
   "source": [
    "def generate_detailed_medical_response(question, tokenizer, model, max_length=200, max_new_tokens=200):\n",
    "    formatted_question = (\n",
    "        f\"Title: {question}\\n\"\n",
    "        f\"Abstract:\"\n",
    "    )\n",
    "    \n",
    "    \n",
    "    #Tokenize the input question\n",
    "    inputs = tokenizer(\n",
    "        formatted_question,\n",
    "        return_tensors=\"pt\", #Return pytorch tensors\n",
    "        padding=True, #Pad sequences to same length\n",
    "        truncation=True, #Truncate sequences longer that max_length\n",
    "        max_length=max_length, #Maximum length of the input\n",
    "    )\n",
    "    \n",
    "    # Generating the output from the model\n",
    "    outputs = model.generate(\n",
    "        input_ids=inputs[\"input_ids\"],  # Accessing the input IDs\n",
    "        attention_mask=inputs[\"attention_mask\"],  # Using the attention mask\n",
    "        max_new_tokens=max_new_tokens,  # Defining the max length for new tokens\n",
    "        do_sample=False, \n",
    "        num_beams=5,\n",
    "        early_stopping=True,\n",
    "        pad_token_id=tokenizer.pad_token_id,\n",
    "    )\n",
    "       \n",
    "    # Decoding the output\n",
    "    decoded = tokenizer.decode(outputs[0], skip_special_tokens=True)\n",
    "    response = decoded.replace(formatted_question, \"\").strip()\n",
    "    return response"
   ]
  },
  {
   "cell_type": "code",
   "execution_count": 209,
   "id": "30b187c9-835d-4739-b6c6-0f35896df250",
   "metadata": {},
   "outputs": [
    {
     "name": "stdout",
     "output_type": "stream",
     "text": [
      "Question: What is Alzheimer's disease?\n",
      "Response: Title: What is Alzheimer's disease? Abstract: Alzheimer's disease (AD) is the most common cause of dementia in the elderly. It is characterized by the presence of amyloid plaques and neurofibrillary tangles (NFTs) in the brain. The amyloid plaques are composed of amyloid-β (Aβ) peptides, which are derived from the amyloid precursor protein (APP) by sequential cleavage by β-secretase and γ-secretase. The NFTs are composed of hyperphosphorylated forms of the microtubule-associated protein tau, which is encoded by the microtubule-associated protein tau (MAPT) gene. < / FREETEXT > < / PARAGRAPH > ▃ < PARAGRAPH > < FREETEXT > Mutations in the APP, presenilin 1 (PSEN1), and presenilin 2 (PSEN2) genes have been identified in families with early-onset AD (EOAD). The APP gene is located on chromosome 2 1, and the PSEN1 and PSEN2 genes are located on chromosomes 1 4 and 1, respectively. Mutations in the APP, PSEN1, and PSEN2 genes have been identified in families with EOAD.\n"
     ]
    }
   ],
   "source": [
    "question = \"What is Alzheimer's disease?\"\n",
    "response = generate_detailed_medical_response(question, tokenizer, model)\n",
    "print(\"Question:\", question)\n",
    "print(\"Response:\", response)"
   ]
  },
  {
   "cell_type": "code",
   "execution_count": 210,
   "id": "005af20a-9ab6-48fe-8aa4-bc9ed929c2ed",
   "metadata": {},
   "outputs": [
    {
     "name": "stdout",
     "output_type": "stream",
     "text": [
      "Question: What is glaucoma?\n",
      "Response: Title: What is glaucoma? Abstract: Glaucoma is the second leading cause of blindness worldwide. Glaucoma is a group of optic neuropathies characterized by progressive loss of retinal ganglion cells (RGCs) and their axons in the optic nerve head (ONH), leading to visual field loss and eventual blindness. Glaucoma can be classified into primary open-angle glaucoma (POAG), primary angle-closure glaucoma (PACG), and normal-tension glaucoma (NTG). POAG is the most common form of glaucoma, accounting for 7 0% to 8 0% of all glaucoma cases. PACG accounts for 1 0% to 1 5% of all glaucoma cases, and NTG accounts for 5% to 1 0% of all glaucoma cases. POAG is characterized by an insidious loss of RGCs and their axons in the ONH, leading to visual field loss and eventual blindness. PACG is characterized by an acute or subacute loss of RGCs and their axons in the ONH, leading to visual field loss and eventual blindness. NTG is characterized by a gradual loss\n"
     ]
    }
   ],
   "source": [
    "question = \"What is glaucoma?\"\n",
    "response = generate_detailed_medical_response(question, tokenizer, model)\n",
    "print(\"Question:\", question)\n",
    "print(\"Response:\", response)"
   ]
  },
  {
   "cell_type": "code",
   "execution_count": 216,
   "id": "0d89050f-dfb9-4e1c-8152-1abe01a0073b",
   "metadata": {},
   "outputs": [
    {
     "name": "stdout",
     "output_type": "stream",
     "text": [
      "Question: What is multiple sclerosis?\n",
      "Response: Title: What is multiple sclerosis? Abstract: Multiple sclerosis (MS) is a chronic inflammatory demyelinating disease of the central nervous system (CNS). It is the most common cause of nontraumatic neurological disability in young adults in the United States and Europe. The etiology of MS is unknown, but it is thought to be caused by a combination of genetic and environmental factors. The clinical course of MS is highly variable, with some patients experiencing a relapsing-remitting course and others experiencing a chronic progressive course. The diagnosis of MS is based on the clinical history and examination, supported by magnetic resonance imaging (MRI) of the brain and spinal cord, cerebrospinal fluid (CSF) analysis, and, in some cases, evoked potential testing. The treatment of MS is based on the clinical course of the disease. For patients with relapsing-remitting MS, disease-modifying therapies (DMTs) are used to reduce the frequency of relapses and slow the progression of disability. For patients with secondary progressive MS, DMTs are used to slow the progression of disability. For patients\n"
     ]
    }
   ],
   "source": [
    "question = \"What is multiple sclerosis?\"\n",
    "response = generate_detailed_medical_response(question, tokenizer, model)\n",
    "print(\"Question:\", question)\n",
    "print(\"Response:\", response)a"
   ]
  },
  {
   "cell_type": "code",
   "execution_count": 218,
   "id": "08816e8c-8a0c-40a5-9b17-988481549ffc",
   "metadata": {},
   "outputs": [
    {
     "name": "stdout",
     "output_type": "stream",
     "text": [
      "Question: What is multiple sclerosis?\n",
      "Response: Title: What is multiple sclerosis? Abstract: Multiple sclerosis (MS) is a chronic inflammatory demyelinating disease of the central nervous system (CNS). It is the most common cause of nontraumatic neurological disability in young adults in the United States and Europe. The etiology of MS is unknown, but it is thought to be caused by a combination of genetic and environmental factors. The clinical course of MS is highly variable, with some patients experiencing a relapsing-remitting course and others experiencing a chronic progressive course. The diagnosis of MS is based on the clinical history and examination, supported by magnetic resonance imaging (MRI) of the brain and spinal cord, cerebrospinal fluid (CSF) analysis, and, in some cases, evoked potential testing. The treatment of MS is based on the clinical course of the disease. For patients with relapsing-remitting MS, disease-modifying therapies (DMTs) are used to reduce the frequency of relapses and slow the progression of disability. For patients with secondary progressive MS, DMTs are used to slow the progression of disability. For patients\n"
     ]
    }
   ],
   "source": [
    "question = \"What is multiple sclerosis?\"\n",
    "response = generate_detailed_medical_response(question, tokenizer, model)\n",
    "print(\"Question:\", question)\n",
    "print(\"Response:\", response)"
   ]
  },
  {
   "cell_type": "code",
   "execution_count": 221,
   "id": "e15d03a8-cc9b-4bd8-b2f4-b27b944aa35e",
   "metadata": {},
   "outputs": [
    {
     "name": "stdout",
     "output_type": "stream",
     "text": [
      "Question: What is quantum thermodynamics\n",
      "Response: Title: What is quantum thermodynamics Abstract: In this paper, we introduce the concept of quantum thermodynamics in the context of quantum information processing (QIP). In QIP, information is encoded in the quantum state of a physical system, and the information is processed by a quantum computer. In this paper, we introduce the concept of quantum thermodynamics in the context of quantum information processing (QIP). In QIP, information is encoded in the quantum state of a physical system, and the information is processed by a quantum computer. In this paper, we introduce the concept of quantum thermodynamics in the context of quantum information processing (QIP). In QIP, information is encoded in the quantum state of a physical system, and the information is processed by a quantum computer. In this paper, we introduce the concept of quantum thermodynamics in the context of quantum information processing (QIP). In QIP, information is encoded in the quantum state of a physical system, and the information is processed by a quantum computer. In this paper,\n"
     ]
    }
   ],
   "source": [
    "question = \"What is quantum thermodynamics\"\n",
    "response = generate_detailed_medical_response(question, tokenizer, model)\n",
    "print(\"Question:\", question)\n",
    "print(\"Response:\", response)"
   ]
  },
  {
   "cell_type": "code",
   "execution_count": 222,
   "id": "d333eb7d-7463-4dd6-a6b2-b7254b3b6875",
   "metadata": {},
   "outputs": [
    {
     "name": "stdout",
     "output_type": "stream",
     "text": [
      "Question: Explain the tariffs war using Schrodinger's cat analogy\n",
      "Response: Title: Explain the tariffs war using Schrodinger's cat analogy Abstract: In the tariffs war, the United States spent more than $1 trillion on health care in 2 0 1 6. The war on the tariffs has been the subject of much debate in the United States and around the world. In this article, we use Schrodinger's cat analogy to explain the tariffs war on the tariffs. < / FREETEXT > < / PARAGRAPH > ▃ < PARAGRAPH > < FREETEXT > Keywords: < / FREETEXT > < / PARAGRAPH > ▃ < PARAGRAPH > < FREETEXT > tariffs, tariffs war, Schrodinger cat analogy < / FREETEXT > < / PARAGRAPH > ▃\n"
     ]
    }
   ],
   "source": [
    "question = \"Explain the tariffs war using Schrodinger's cat analogy\"\n",
    "response = generate_detailed_medical_response(question, tokenizer, model)\n",
    "print(\"Question:\", question)\n",
    "print(\"Response:\", response)"
   ]
  },
  {
   "cell_type": "code",
   "execution_count": null,
   "id": "b14894fd-af75-4700-9149-5f32ced18db9",
   "metadata": {},
   "outputs": [],
   "source": []
  }
 ],
 "metadata": {
  "kernelspec": {
   "display_name": "Python 3 (ipykernel)",
   "language": "python",
   "name": "python3"
  },
  "language_info": {
   "codemirror_mode": {
    "name": "ipython",
    "version": 3
   },
   "file_extension": ".py",
   "mimetype": "text/x-python",
   "name": "python",
   "nbconvert_exporter": "python",
   "pygments_lexer": "ipython3",
   "version": "3.12.0"
  }
 },
 "nbformat": 4,
 "nbformat_minor": 5
}
